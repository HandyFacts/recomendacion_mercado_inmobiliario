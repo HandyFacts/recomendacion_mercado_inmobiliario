{
 "cells": [
  {
   "cell_type": "code",
   "execution_count": 66,
   "metadata": {},
   "outputs": [],
   "source": [
    "#importar las librerias\n",
    "import pandas as pd\n",
    "import numpy as np\n",
    "import matplotlib.pyplot as plt\n",
    "from sklearn.preprocessing import MinMaxScaler "
   ]
  },
  {
   "cell_type": "code",
   "execution_count": 67,
   "metadata": {},
   "outputs": [],
   "source": [
    "#importar el csv de ndemandas\n",
    "df=pd.read_csv(r\"..\\Dataset limpios\\demanda_dataset.csv\")"
   ]
  },
  {
   "cell_type": "code",
   "execution_count": 68,
   "metadata": {},
   "outputs": [],
   "source": [
    "df.rename(columns={\"Unnamed: 0\":\"fecha\"}, inplace=True)"
   ]
  },
  {
   "cell_type": "code",
   "execution_count": 69,
   "metadata": {},
   "outputs": [],
   "source": [
    "df=df.set_index(df[\"fecha\"])\n"
   ]
  },
  {
   "cell_type": "code",
   "execution_count": 70,
   "metadata": {},
   "outputs": [
    {
     "name": "stdout",
     "output_type": "stream",
     "text": [
      "shape is: (187, 38)\n"
     ]
    }
   ],
   "source": [
    "df=df.iloc[:,1:]\n",
    "\n",
    "print(\"shape is:\",df.shape)"
   ]
  },
  {
   "cell_type": "code",
   "execution_count": 111,
   "metadata": {},
   "outputs": [
    {
     "data": {
      "text/html": [
       "<div>\n",
       "<style scoped>\n",
       "    .dataframe tbody tr th:only-of-type {\n",
       "        vertical-align: middle;\n",
       "    }\n",
       "\n",
       "    .dataframe tbody tr th {\n",
       "        vertical-align: top;\n",
       "    }\n",
       "\n",
       "    .dataframe thead th {\n",
       "        text-align: right;\n",
       "    }\n",
       "</style>\n",
       "<table border=\"1\" class=\"dataframe\">\n",
       "  <thead>\n",
       "    <tr style=\"text-align: right;\">\n",
       "      <th></th>\n",
       "      <th>AL</th>\n",
       "      <th>AR</th>\n",
       "      <th>AZ</th>\n",
       "      <th>CA</th>\n",
       "      <th>CO</th>\n",
       "      <th>CT</th>\n",
       "      <th>FL</th>\n",
       "      <th>GA</th>\n",
       "      <th>HI</th>\n",
       "      <th>IA</th>\n",
       "      <th>...</th>\n",
       "      <th>OR</th>\n",
       "      <th>PA</th>\n",
       "      <th>RI</th>\n",
       "      <th>SC</th>\n",
       "      <th>TN</th>\n",
       "      <th>TX</th>\n",
       "      <th>UT</th>\n",
       "      <th>VA</th>\n",
       "      <th>WA</th>\n",
       "      <th>WI</th>\n",
       "    </tr>\n",
       "    <tr>\n",
       "      <th>fecha</th>\n",
       "      <th></th>\n",
       "      <th></th>\n",
       "      <th></th>\n",
       "      <th></th>\n",
       "      <th></th>\n",
       "      <th></th>\n",
       "      <th></th>\n",
       "      <th></th>\n",
       "      <th></th>\n",
       "      <th></th>\n",
       "      <th></th>\n",
       "      <th></th>\n",
       "      <th></th>\n",
       "      <th></th>\n",
       "      <th></th>\n",
       "      <th></th>\n",
       "      <th></th>\n",
       "      <th></th>\n",
       "      <th></th>\n",
       "      <th></th>\n",
       "      <th></th>\n",
       "    </tr>\n",
       "  </thead>\n",
       "  <tbody>\n",
       "    <tr>\n",
       "      <th>2008-02-29</th>\n",
       "      <td>618.0</td>\n",
       "      <td>572.0</td>\n",
       "      <td>3334.0</td>\n",
       "      <td>10637.0</td>\n",
       "      <td>2808.0</td>\n",
       "      <td>2329.0</td>\n",
       "      <td>9236.0</td>\n",
       "      <td>4071.0</td>\n",
       "      <td>613.0</td>\n",
       "      <td>481.0</td>\n",
       "      <td>...</td>\n",
       "      <td>1613.0</td>\n",
       "      <td>5321.0</td>\n",
       "      <td>644.0</td>\n",
       "      <td>1696.0</td>\n",
       "      <td>3112.0</td>\n",
       "      <td>7544.0</td>\n",
       "      <td>1436.0</td>\n",
       "      <td>4292.0</td>\n",
       "      <td>2279.0</td>\n",
       "      <td>1029.0</td>\n",
       "    </tr>\n",
       "    <tr>\n",
       "      <th>2008-03-31</th>\n",
       "      <td>800.0</td>\n",
       "      <td>663.0</td>\n",
       "      <td>3975.0</td>\n",
       "      <td>13144.0</td>\n",
       "      <td>3476.0</td>\n",
       "      <td>3080.0</td>\n",
       "      <td>10878.0</td>\n",
       "      <td>4381.0</td>\n",
       "      <td>770.0</td>\n",
       "      <td>496.0</td>\n",
       "      <td>...</td>\n",
       "      <td>1892.0</td>\n",
       "      <td>6451.0</td>\n",
       "      <td>836.0</td>\n",
       "      <td>2014.0</td>\n",
       "      <td>3596.0</td>\n",
       "      <td>8744.0</td>\n",
       "      <td>1659.0</td>\n",
       "      <td>5125.0</td>\n",
       "      <td>2695.0</td>\n",
       "      <td>1363.0</td>\n",
       "    </tr>\n",
       "    <tr>\n",
       "      <th>2008-04-30</th>\n",
       "      <td>818.0</td>\n",
       "      <td>688.0</td>\n",
       "      <td>4431.0</td>\n",
       "      <td>16200.0</td>\n",
       "      <td>3978.0</td>\n",
       "      <td>3335.0</td>\n",
       "      <td>11801.0</td>\n",
       "      <td>4483.0</td>\n",
       "      <td>859.0</td>\n",
       "      <td>659.0</td>\n",
       "      <td>...</td>\n",
       "      <td>1863.0</td>\n",
       "      <td>7324.0</td>\n",
       "      <td>912.0</td>\n",
       "      <td>2120.0</td>\n",
       "      <td>3746.0</td>\n",
       "      <td>9400.0</td>\n",
       "      <td>1846.0</td>\n",
       "      <td>5680.0</td>\n",
       "      <td>2848.0</td>\n",
       "      <td>1640.0</td>\n",
       "    </tr>\n",
       "    <tr>\n",
       "      <th>2008-05-31</th>\n",
       "      <td>873.0</td>\n",
       "      <td>799.0</td>\n",
       "      <td>4680.0</td>\n",
       "      <td>17989.0</td>\n",
       "      <td>4418.0</td>\n",
       "      <td>3977.0</td>\n",
       "      <td>12056.0</td>\n",
       "      <td>4735.0</td>\n",
       "      <td>762.0</td>\n",
       "      <td>729.0</td>\n",
       "      <td>...</td>\n",
       "      <td>2096.0</td>\n",
       "      <td>7788.0</td>\n",
       "      <td>1093.0</td>\n",
       "      <td>2266.0</td>\n",
       "      <td>4075.0</td>\n",
       "      <td>10431.0</td>\n",
       "      <td>1976.0</td>\n",
       "      <td>6002.0</td>\n",
       "      <td>2947.0</td>\n",
       "      <td>1966.0</td>\n",
       "    </tr>\n",
       "    <tr>\n",
       "      <th>2008-06-30</th>\n",
       "      <td>926.0</td>\n",
       "      <td>774.0</td>\n",
       "      <td>4419.0</td>\n",
       "      <td>18491.0</td>\n",
       "      <td>4688.0</td>\n",
       "      <td>4726.0</td>\n",
       "      <td>11985.0</td>\n",
       "      <td>4962.0</td>\n",
       "      <td>659.0</td>\n",
       "      <td>768.0</td>\n",
       "      <td>...</td>\n",
       "      <td>2062.0</td>\n",
       "      <td>8753.0</td>\n",
       "      <td>1173.0</td>\n",
       "      <td>2348.0</td>\n",
       "      <td>4103.0</td>\n",
       "      <td>10662.0</td>\n",
       "      <td>2003.0</td>\n",
       "      <td>6872.0</td>\n",
       "      <td>3049.0</td>\n",
       "      <td>2217.0</td>\n",
       "    </tr>\n",
       "    <tr>\n",
       "      <th>...</th>\n",
       "      <td>...</td>\n",
       "      <td>...</td>\n",
       "      <td>...</td>\n",
       "      <td>...</td>\n",
       "      <td>...</td>\n",
       "      <td>...</td>\n",
       "      <td>...</td>\n",
       "      <td>...</td>\n",
       "      <td>...</td>\n",
       "      <td>...</td>\n",
       "      <td>...</td>\n",
       "      <td>...</td>\n",
       "      <td>...</td>\n",
       "      <td>...</td>\n",
       "      <td>...</td>\n",
       "      <td>...</td>\n",
       "      <td>...</td>\n",
       "      <td>...</td>\n",
       "      <td>...</td>\n",
       "      <td>...</td>\n",
       "      <td>...</td>\n",
       "    </tr>\n",
       "    <tr>\n",
       "      <th>2023-04-30</th>\n",
       "      <td>1064.0</td>\n",
       "      <td>676.0</td>\n",
       "      <td>6758.0</td>\n",
       "      <td>17451.0</td>\n",
       "      <td>4502.0</td>\n",
       "      <td>1946.0</td>\n",
       "      <td>21383.0</td>\n",
       "      <td>6156.0</td>\n",
       "      <td>546.0</td>\n",
       "      <td>526.0</td>\n",
       "      <td>...</td>\n",
       "      <td>2002.0</td>\n",
       "      <td>7220.0</td>\n",
       "      <td>874.0</td>\n",
       "      <td>2816.0</td>\n",
       "      <td>4251.0</td>\n",
       "      <td>10448.0</td>\n",
       "      <td>1805.0</td>\n",
       "      <td>7325.0</td>\n",
       "      <td>2938.0</td>\n",
       "      <td>1446.0</td>\n",
       "    </tr>\n",
       "    <tr>\n",
       "      <th>2023-05-31</th>\n",
       "      <td>1273.0</td>\n",
       "      <td>805.0</td>\n",
       "      <td>8015.0</td>\n",
       "      <td>21256.0</td>\n",
       "      <td>5415.0</td>\n",
       "      <td>2362.0</td>\n",
       "      <td>24171.0</td>\n",
       "      <td>6981.0</td>\n",
       "      <td>607.0</td>\n",
       "      <td>545.0</td>\n",
       "      <td>...</td>\n",
       "      <td>2342.0</td>\n",
       "      <td>8444.0</td>\n",
       "      <td>1077.0</td>\n",
       "      <td>3357.0</td>\n",
       "      <td>5432.0</td>\n",
       "      <td>12896.0</td>\n",
       "      <td>2114.0</td>\n",
       "      <td>9017.0</td>\n",
       "      <td>3358.0</td>\n",
       "      <td>1876.0</td>\n",
       "    </tr>\n",
       "    <tr>\n",
       "      <th>2023-06-30</th>\n",
       "      <td>1194.0</td>\n",
       "      <td>881.0</td>\n",
       "      <td>7128.0</td>\n",
       "      <td>20573.0</td>\n",
       "      <td>5543.0</td>\n",
       "      <td>3081.0</td>\n",
       "      <td>22844.0</td>\n",
       "      <td>6862.0</td>\n",
       "      <td>645.0</td>\n",
       "      <td>598.0</td>\n",
       "      <td>...</td>\n",
       "      <td>2519.0</td>\n",
       "      <td>9801.0</td>\n",
       "      <td>1303.0</td>\n",
       "      <td>3505.0</td>\n",
       "      <td>5468.0</td>\n",
       "      <td>12548.0</td>\n",
       "      <td>2092.0</td>\n",
       "      <td>9144.0</td>\n",
       "      <td>3503.0</td>\n",
       "      <td>2145.0</td>\n",
       "    </tr>\n",
       "    <tr>\n",
       "      <th>2023-07-31</th>\n",
       "      <td>1087.0</td>\n",
       "      <td>772.0</td>\n",
       "      <td>5755.0</td>\n",
       "      <td>18053.0</td>\n",
       "      <td>4784.0</td>\n",
       "      <td>2618.0</td>\n",
       "      <td>19058.0</td>\n",
       "      <td>5688.0</td>\n",
       "      <td>566.0</td>\n",
       "      <td>535.0</td>\n",
       "      <td>...</td>\n",
       "      <td>2250.0</td>\n",
       "      <td>7877.0</td>\n",
       "      <td>1061.0</td>\n",
       "      <td>2874.0</td>\n",
       "      <td>4624.0</td>\n",
       "      <td>10943.0</td>\n",
       "      <td>1903.0</td>\n",
       "      <td>7385.0</td>\n",
       "      <td>3231.0</td>\n",
       "      <td>2122.0</td>\n",
       "    </tr>\n",
       "    <tr>\n",
       "      <th>2023-08-31</th>\n",
       "      <td>1129.0</td>\n",
       "      <td>799.0</td>\n",
       "      <td>5540.0</td>\n",
       "      <td>19096.0</td>\n",
       "      <td>4672.0</td>\n",
       "      <td>1417.0</td>\n",
       "      <td>19201.0</td>\n",
       "      <td>6095.0</td>\n",
       "      <td>595.0</td>\n",
       "      <td>453.0</td>\n",
       "      <td>...</td>\n",
       "      <td>2499.0</td>\n",
       "      <td>8194.0</td>\n",
       "      <td>1195.0</td>\n",
       "      <td>2904.0</td>\n",
       "      <td>4668.0</td>\n",
       "      <td>11606.0</td>\n",
       "      <td>2162.0</td>\n",
       "      <td>7336.0</td>\n",
       "      <td>3521.0</td>\n",
       "      <td>2076.0</td>\n",
       "    </tr>\n",
       "  </tbody>\n",
       "</table>\n",
       "<p>187 rows × 38 columns</p>\n",
       "</div>"
      ],
      "text/plain": [
       "                AL     AR      AZ       CA      CO      CT       FL      GA  \\\n",
       "fecha                                                                         \n",
       "2008-02-29   618.0  572.0  3334.0  10637.0  2808.0  2329.0   9236.0  4071.0   \n",
       "2008-03-31   800.0  663.0  3975.0  13144.0  3476.0  3080.0  10878.0  4381.0   \n",
       "2008-04-30   818.0  688.0  4431.0  16200.0  3978.0  3335.0  11801.0  4483.0   \n",
       "2008-05-31   873.0  799.0  4680.0  17989.0  4418.0  3977.0  12056.0  4735.0   \n",
       "2008-06-30   926.0  774.0  4419.0  18491.0  4688.0  4726.0  11985.0  4962.0   \n",
       "...            ...    ...     ...      ...     ...     ...      ...     ...   \n",
       "2023-04-30  1064.0  676.0  6758.0  17451.0  4502.0  1946.0  21383.0  6156.0   \n",
       "2023-05-31  1273.0  805.0  8015.0  21256.0  5415.0  2362.0  24171.0  6981.0   \n",
       "2023-06-30  1194.0  881.0  7128.0  20573.0  5543.0  3081.0  22844.0  6862.0   \n",
       "2023-07-31  1087.0  772.0  5755.0  18053.0  4784.0  2618.0  19058.0  5688.0   \n",
       "2023-08-31  1129.0  799.0  5540.0  19096.0  4672.0  1417.0  19201.0  6095.0   \n",
       "\n",
       "               HI     IA  ...      OR      PA      RI      SC      TN  \\\n",
       "fecha                     ...                                           \n",
       "2008-02-29  613.0  481.0  ...  1613.0  5321.0   644.0  1696.0  3112.0   \n",
       "2008-03-31  770.0  496.0  ...  1892.0  6451.0   836.0  2014.0  3596.0   \n",
       "2008-04-30  859.0  659.0  ...  1863.0  7324.0   912.0  2120.0  3746.0   \n",
       "2008-05-31  762.0  729.0  ...  2096.0  7788.0  1093.0  2266.0  4075.0   \n",
       "2008-06-30  659.0  768.0  ...  2062.0  8753.0  1173.0  2348.0  4103.0   \n",
       "...           ...    ...  ...     ...     ...     ...     ...     ...   \n",
       "2023-04-30  546.0  526.0  ...  2002.0  7220.0   874.0  2816.0  4251.0   \n",
       "2023-05-31  607.0  545.0  ...  2342.0  8444.0  1077.0  3357.0  5432.0   \n",
       "2023-06-30  645.0  598.0  ...  2519.0  9801.0  1303.0  3505.0  5468.0   \n",
       "2023-07-31  566.0  535.0  ...  2250.0  7877.0  1061.0  2874.0  4624.0   \n",
       "2023-08-31  595.0  453.0  ...  2499.0  8194.0  1195.0  2904.0  4668.0   \n",
       "\n",
       "                 TX      UT      VA      WA      WI  \n",
       "fecha                                                \n",
       "2008-02-29   7544.0  1436.0  4292.0  2279.0  1029.0  \n",
       "2008-03-31   8744.0  1659.0  5125.0  2695.0  1363.0  \n",
       "2008-04-30   9400.0  1846.0  5680.0  2848.0  1640.0  \n",
       "2008-05-31  10431.0  1976.0  6002.0  2947.0  1966.0  \n",
       "2008-06-30  10662.0  2003.0  6872.0  3049.0  2217.0  \n",
       "...             ...     ...     ...     ...     ...  \n",
       "2023-04-30  10448.0  1805.0  7325.0  2938.0  1446.0  \n",
       "2023-05-31  12896.0  2114.0  9017.0  3358.0  1876.0  \n",
       "2023-06-30  12548.0  2092.0  9144.0  3503.0  2145.0  \n",
       "2023-07-31  10943.0  1903.0  7385.0  3231.0  2122.0  \n",
       "2023-08-31  11606.0  2162.0  7336.0  3521.0  2076.0  \n",
       "\n",
       "[187 rows x 38 columns]"
      ]
     },
     "execution_count": 111,
     "metadata": {},
     "output_type": "execute_result"
    }
   ],
   "source": [
    "df"
   ]
  },
  {
   "cell_type": "code",
   "execution_count": 71,
   "metadata": {},
   "outputs": [],
   "source": [
    "df1 = df[['AR']]"
   ]
  },
  {
   "cell_type": "code",
   "execution_count": 72,
   "metadata": {},
   "outputs": [
    {
     "data": {
      "text/plain": [
       "<Axes: xlabel='fecha'>"
      ]
     },
     "execution_count": 72,
     "metadata": {},
     "output_type": "execute_result"
    },
    {
     "data": {
      "image/png": "[encoded data removed]",
      "text/plain": [
       "<Figure size 640x480 with 1 Axes>"
      ]
     },
     "metadata": {},
     "output_type": "display_data"
    }
   ],
   "source": [
    "df1.plot()"
   ]
  },
  {
   "cell_type": "code",
   "execution_count": 104,
   "metadata": {},
   "outputs": [
    {
     "data": {
      "text/html": [
       "<div>\n",
       "<style scoped>\n",
       "    .dataframe tbody tr th:only-of-type {\n",
       "        vertical-align: middle;\n",
       "    }\n",
       "\n",
       "    .dataframe tbody tr th {\n",
       "        vertical-align: top;\n",
       "    }\n",
       "\n",
       "    .dataframe thead th {\n",
       "        text-align: right;\n",
       "    }\n",
       "</style>\n",
       "<table border=\"1\" class=\"dataframe\">\n",
       "  <thead>\n",
       "    <tr style=\"text-align: right;\">\n",
       "      <th></th>\n",
       "      <th>AR</th>\n",
       "    </tr>\n",
       "    <tr>\n",
       "      <th>fecha</th>\n",
       "      <th></th>\n",
       "    </tr>\n",
       "  </thead>\n",
       "  <tbody>\n",
       "    <tr>\n",
       "      <th>2008-02-29</th>\n",
       "      <td>572.0</td>\n",
       "    </tr>\n",
       "    <tr>\n",
       "      <th>2008-03-31</th>\n",
       "      <td>663.0</td>\n",
       "    </tr>\n",
       "    <tr>\n",
       "      <th>2008-04-30</th>\n",
       "      <td>688.0</td>\n",
       "    </tr>\n",
       "    <tr>\n",
       "      <th>2008-05-31</th>\n",
       "      <td>799.0</td>\n",
       "    </tr>\n",
       "    <tr>\n",
       "      <th>2008-06-30</th>\n",
       "      <td>774.0</td>\n",
       "    </tr>\n",
       "    <tr>\n",
       "      <th>...</th>\n",
       "      <td>...</td>\n",
       "    </tr>\n",
       "    <tr>\n",
       "      <th>2023-04-30</th>\n",
       "      <td>676.0</td>\n",
       "    </tr>\n",
       "    <tr>\n",
       "      <th>2023-05-31</th>\n",
       "      <td>805.0</td>\n",
       "    </tr>\n",
       "    <tr>\n",
       "      <th>2023-06-30</th>\n",
       "      <td>881.0</td>\n",
       "    </tr>\n",
       "    <tr>\n",
       "      <th>2023-07-31</th>\n",
       "      <td>772.0</td>\n",
       "    </tr>\n",
       "    <tr>\n",
       "      <th>2023-08-31</th>\n",
       "      <td>799.0</td>\n",
       "    </tr>\n",
       "  </tbody>\n",
       "</table>\n",
       "<p>187 rows × 1 columns</p>\n",
       "</div>"
      ],
      "text/plain": [
       "               AR\n",
       "fecha            \n",
       "2008-02-29  572.0\n",
       "2008-03-31  663.0\n",
       "2008-04-30  688.0\n",
       "2008-05-31  799.0\n",
       "2008-06-30  774.0\n",
       "...           ...\n",
       "2023-04-30  676.0\n",
       "2023-05-31  805.0\n",
       "2023-06-30  881.0\n",
       "2023-07-31  772.0\n",
       "2023-08-31  799.0\n",
       "\n",
       "[187 rows x 1 columns]"
      ]
     },
     "execution_count": 104,
     "metadata": {},
     "output_type": "execute_result"
    }
   ],
   "source": [
    "df1"
   ]
  },
  {
   "cell_type": "code",
   "execution_count": 73,
   "metadata": {},
   "outputs": [],
   "source": [
    "train=df1.loc[df.index<\"2020-08-31\"]\n",
    "test=df1.loc[df.index>=\"2020-08-31\"]"
   ]
  },
  {
   "cell_type": "code",
   "execution_count": 108,
   "metadata": {},
   "outputs": [
    {
     "data": {
      "text/plain": [
       "(150, 1)"
      ]
     },
     "execution_count": 108,
     "metadata": {},
     "output_type": "execute_result"
    }
   ],
   "source": [
    "train.values.shape"
   ]
  },
  {
   "cell_type": "code",
   "execution_count": 107,
   "metadata": {},
   "outputs": [
    {
     "data": {
      "text/plain": [
       "(37, 1)"
      ]
     },
     "execution_count": 107,
     "metadata": {},
     "output_type": "execute_result"
    }
   ],
   "source": [
    "test.values.shape"
   ]
  },
  {
   "cell_type": "code",
   "execution_count": 74,
   "metadata": {},
   "outputs": [],
   "source": [
    "sc = MinMaxScaler(feature_range=(0,1))\n",
    "set_entrenamiento_escalado = sc.fit_transform(train)"
   ]
  },
  {
   "cell_type": "code",
   "execution_count": 75,
   "metadata": {},
   "outputs": [],
   "source": [
    "time_step = 24\n",
    "x_train = []\n",
    "y_train = []\n",
    "\n",
    "m = len(set_entrenamiento_escalado)\n",
    "\n",
    "for i in range(time_step, m):\n",
    "    x_train.append(set_entrenamiento_escalado[i-time_step:i,0])\n",
    "\n",
    "    y_train.append(set_entrenamiento_escalado[i,0])\n",
    "x_train, y_train = np.array(x_train), np.array(y_train)\n"
   ]
  },
  {
   "cell_type": "code",
   "execution_count": 110,
   "metadata": {},
   "outputs": [
    {
     "data": {
      "text/plain": [
       "126"
      ]
     },
     "execution_count": 110,
     "metadata": {},
     "output_type": "execute_result"
    }
   ],
   "source": [
    "x_train"
   ]
  },
  {
   "cell_type": "code",
   "execution_count": 77,
   "metadata": {},
   "outputs": [],
   "source": [
    "x_train = np.reshape(x_train, (x_train.shape[0],x_train.shape[1],1))"
   ]
  },
  {
   "cell_type": "code",
   "execution_count": 78,
   "metadata": {},
   "outputs": [],
   "source": [
    "from keras.models import Sequential\n",
    "from keras.layers import LSTM, Dense"
   ]
  },
  {
   "cell_type": "code",
   "execution_count": 79,
   "metadata": {},
   "outputs": [],
   "source": [
    "dim_entrada = (x_train.shape[1], 1)\n",
    "dim_salida = 1\n",
    "na = 50"
   ]
  },
  {
   "cell_type": "code",
   "execution_count": 80,
   "metadata": {},
   "outputs": [],
   "source": [
    "modelo = Sequential()\n",
    "modelo.add(LSTM(units=na, input_shape=dim_entrada))\n",
    "modelo.add(Dense(units=dim_salida))"
   ]
  },
  {
   "cell_type": "code",
   "execution_count": 81,
   "metadata": {},
   "outputs": [],
   "source": [
    "modelo.compile(optimizer='rmsprop', loss='mse')"
   ]
  },
  {
   "cell_type": "code",
   "execution_count": 82,
   "metadata": {},
   "outputs": [
    {
     "name": "stdout",
     "output_type": "stream",
     "text": [
      "Epoch 1/20\n"
     ]
    },
    {
     "name": "stdout",
     "output_type": "stream",
     "text": [
      "4/4 [==============================] - 3s 17ms/step - loss: 0.0737\n",
      "Epoch 2/20\n",
      "4/4 [==============================] - 0s 17ms/step - loss: 0.0307\n",
      "Epoch 3/20\n",
      "4/4 [==============================] - 0s 16ms/step - loss: 0.0252\n",
      "Epoch 4/20\n",
      "4/4 [==============================] - 0s 20ms/step - loss: 0.0240\n",
      "Epoch 5/20\n",
      "4/4 [==============================] - 0s 13ms/step - loss: 0.0229\n",
      "Epoch 6/20\n",
      "4/4 [==============================] - 0s 15ms/step - loss: 0.0225\n",
      "Epoch 7/20\n",
      "4/4 [==============================] - 0s 14ms/step - loss: 0.0201\n",
      "Epoch 8/20\n",
      "4/4 [==============================] - 0s 17ms/step - loss: 0.0194\n",
      "Epoch 9/20\n",
      "4/4 [==============================] - 0s 15ms/step - loss: 0.0187\n",
      "Epoch 10/20\n",
      "4/4 [==============================] - 0s 21ms/step - loss: 0.0178\n",
      "Epoch 11/20\n",
      "4/4 [==============================] - 0s 15ms/step - loss: 0.0174\n",
      "Epoch 12/20\n",
      "4/4 [==============================] - 0s 15ms/step - loss: 0.0181\n",
      "Epoch 13/20\n",
      "4/4 [==============================] - 0s 16ms/step - loss: 0.0160\n",
      "Epoch 14/20\n",
      "4/4 [==============================] - 0s 17ms/step - loss: 0.0156\n",
      "Epoch 15/20\n",
      "4/4 [==============================] - 0s 19ms/step - loss: 0.0163\n",
      "Epoch 16/20\n",
      "4/4 [==============================] - 0s 17ms/step - loss: 0.0153\n",
      "Epoch 17/20\n",
      "4/4 [==============================] - 0s 17ms/step - loss: 0.0152\n",
      "Epoch 18/20\n",
      "4/4 [==============================] - 0s 17ms/step - loss: 0.0149\n",
      "Epoch 19/20\n",
      "4/4 [==============================] - 0s 17ms/step - loss: 0.0141\n",
      "Epoch 20/20\n",
      "4/4 [==============================] - 0s 15ms/step - loss: 0.0138\n"
     ]
    },
    {
     "data": {
      "text/plain": [
       "<keras.src.callbacks.History at 0x2e55a0655d0>"
      ]
     },
     "execution_count": 82,
     "metadata": {},
     "output_type": "execute_result"
    }
   ],
   "source": [
    "modelo.fit(x_train,y_train,epochs=20,batch_size=32)"
   ]
  },
  {
   "cell_type": "code",
   "execution_count": 97,
   "metadata": {},
   "outputs": [
    {
     "name": "stderr",
     "output_type": "stream",
     "text": [
      "C:\\Users\\ARTUROS\\AppData\\Local\\Packages\\PythonSoftwareFoundation.Python.3.11_qbz5n2kfra8p0\\LocalCache\\local-packages\\Python311\\site-packages\\sklearn\\base.py:465: UserWarning: X does not have valid feature names, but MinMaxScaler was fitted with feature names\n",
      "  warnings.warn(\n"
     ]
    }
   ],
   "source": [
    "x_test = test.values\n",
    "x_test = sc.transform(x_test)"
   ]
  },
  {
   "cell_type": "code",
   "execution_count": 96,
   "metadata": {},
   "outputs": [
    {
     "data": {
      "text/plain": [
       "(37, 1)"
      ]
     },
     "execution_count": 96,
     "metadata": {},
     "output_type": "execute_result"
    }
   ],
   "source": [
    "X_test.shape"
   ]
  },
  {
   "cell_type": "code",
   "execution_count": 98,
   "metadata": {},
   "outputs": [],
   "source": [
    "X_test = []\n",
    "for i in range(time_step,len(x_test)):\n",
    "    X_test.append(x_test[i-time_step:i,0])\n",
    "X_test = np.array(X_test)\n",
    "X_test = np.reshape(X_test, (X_test.shape[0],X_test.shape[1],1))"
   ]
  },
  {
   "cell_type": "code",
   "execution_count": 99,
   "metadata": {},
   "outputs": [
    {
     "data": {
      "text/plain": [
       "array([[0.17071701],\n",
       "       [0.16549508],\n",
       "       [0.16107652],\n",
       "       [0.13356096],\n",
       "       [0.13476602],\n",
       "       [0.08596104],\n",
       "       [0.08616188],\n",
       "       [0.13536855],\n",
       "       [0.14862422],\n",
       "       [0.1725246 ],\n",
       "       [0.2145009 ],\n",
       "       [0.18899377],\n",
       "       [0.17654147],\n",
       "       [0.17332798],\n",
       "       [0.15946977],\n",
       "       [0.14360313],\n",
       "       [0.13456517],\n",
       "       [0.08576019],\n",
       "       [0.08877285],\n",
       "       [0.13717614],\n",
       "       [0.13215505],\n",
       "       [0.18778871],\n",
       "       [0.15143603],\n",
       "       [0.14199638],\n",
       "       [0.1554529 ],\n",
       "       [0.11327576],\n",
       "       [0.08636272],\n",
       "       [0.06246234],\n",
       "       [0.06286403],\n",
       "       [0.03313918],\n",
       "       [0.04277967],\n",
       "       [0.08495682],\n",
       "       [0.06447078],\n",
       "       [0.09037959],\n",
       "       [0.1056437 ],\n",
       "       [0.08375176],\n",
       "       [0.08917453]])"
      ]
     },
     "execution_count": 99,
     "metadata": {},
     "output_type": "execute_result"
    }
   ],
   "source": [
    "x_test"
   ]
  },
  {
   "cell_type": "code",
   "execution_count": 100,
   "metadata": {},
   "outputs": [
    {
     "name": "stdout",
     "output_type": "stream",
     "text": [
      "1/1 [==============================] - 0s 48ms/step\n"
     ]
    }
   ],
   "source": [
    "prediccion = modelo.predict(X_test)\n",
    "prediccion = sc.inverse_transform(prediccion)"
   ]
  },
  {
   "cell_type": "code",
   "execution_count": 101,
   "metadata": {},
   "outputs": [
    {
     "data": {
      "text/plain": [
       "(13, 1)"
      ]
     },
     "execution_count": 101,
     "metadata": {},
     "output_type": "execute_result"
    }
   ],
   "source": [
    "prediccion.shape"
   ]
  },
  {
   "cell_type": "code",
   "execution_count": 102,
   "metadata": {},
   "outputs": [
    {
     "data": {
      "text/plain": [
       "array([[0.17071701],\n",
       "       [0.16549508],\n",
       "       [0.16107652],\n",
       "       [0.13356096],\n",
       "       [0.13476602],\n",
       "       [0.08596104],\n",
       "       [0.08616188],\n",
       "       [0.13536855],\n",
       "       [0.14862422],\n",
       "       [0.1725246 ],\n",
       "       [0.2145009 ],\n",
       "       [0.18899377],\n",
       "       [0.17654147],\n",
       "       [0.17332798],\n",
       "       [0.15946977],\n",
       "       [0.14360313],\n",
       "       [0.13456517],\n",
       "       [0.08576019],\n",
       "       [0.08877285],\n",
       "       [0.13717614],\n",
       "       [0.13215505],\n",
       "       [0.18778871],\n",
       "       [0.15143603],\n",
       "       [0.14199638],\n",
       "       [0.1554529 ],\n",
       "       [0.11327576],\n",
       "       [0.08636272],\n",
       "       [0.06246234],\n",
       "       [0.06286403],\n",
       "       [0.03313918],\n",
       "       [0.04277967],\n",
       "       [0.08495682],\n",
       "       [0.06447078],\n",
       "       [0.09037959],\n",
       "       [0.1056437 ],\n",
       "       [0.08375176],\n",
       "       [0.08917453]])"
      ]
     },
     "execution_count": 102,
     "metadata": {},
     "output_type": "execute_result"
    }
   ],
   "source": [
    "x_test"
   ]
  },
  {
   "cell_type": "code",
   "execution_count": 103,
   "metadata": {},
   "outputs": [
    {
     "data": {
      "text/plain": [
       "array([[1222.7875 ],\n",
       "       [1235.2373 ],\n",
       "       [1215.0834 ],\n",
       "       [1175.05   ],\n",
       "       [1118.7213 ],\n",
       "       [1066.8218 ],\n",
       "       [ 998.6991 ],\n",
       "       [ 945.5991 ],\n",
       "       [ 932.27313],\n",
       "       [ 912.0458 ],\n",
       "       [ 917.16455],\n",
       "       [ 937.9689 ],\n",
       "       [ 944.5867 ]], dtype=float32)"
      ]
     },
     "execution_count": 103,
     "metadata": {},
     "output_type": "execute_result"
    }
   ],
   "source": [
    "prediccion"
   ]
  }
 ],
 "metadata": {
  "kernelspec": {
   "display_name": "Python 3",
   "language": "python",
   "name": "python3"
  },
  "language_info": {
   "codemirror_mode": {
    "name": "ipython",
    "version": 3
   },
   "file_extension": ".py",
   "mimetype": "text/x-python",
   "name": "python",
   "nbconvert_exporter": "python",
   "pygments_lexer": "ipython3",
   "version": "3.11.5"
  }
 },
 "nbformat": 4,
 "nbformat_minor": 2
}
