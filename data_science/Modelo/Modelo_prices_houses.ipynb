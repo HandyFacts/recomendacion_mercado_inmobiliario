{
 "cells": [
  {
   "cell_type": "code",
   "execution_count": 6,
   "metadata": {},
   "outputs": [],
   "source": [
    "import pandas as pd\n",
    "import numpy as np \n",
    "import matplotlib.pyplot as plt\n",
    "import joblib\n",
    "\n",
    "from sklearn.model_selection import train_test_split\n",
    "from xgboost import XGBRegressor\n",
    "import xgboost as xgb\n",
    "from sklearn.model_selection import GridSearchCV\n",
    "from sklearn.metrics import mean_squared_error, mean_absolute_error\n"
   ]
  },
  {
   "cell_type": "code",
   "execution_count": 2,
   "metadata": {},
   "outputs": [],
   "source": [
    "result = pd.read_csv('Dataset_modelo_csv.csv')"
   ]
  },
  {
   "cell_type": "code",
   "execution_count": 3,
   "metadata": {},
   "outputs": [
    {
     "data": {
      "text/plain": [
       "Index(['property_id', 'lon', 'lat', 'fips_code', 'is_new_construction',\n",
       "       'is_contingent', 'is_price_reduced', 'is_foreclosure', 'is_plan',\n",
       "       'is_coming_soon', 'year_built', 'lot_sqft', 'sqft', 'baths', 'garage',\n",
       "       'stories', 'beds', 'list_price', 'encoded_city', 'encoded_type',\n",
       "       'central_air', 'laundry_room', 'community_outdoor_space', 'fireplace',\n",
       "       'dishwasher', 'recreation_facilities', 'central_heat', 'forced_air',\n",
       "       'shopping', 'hardwood_floors', 'basement', 'family_room', 'view',\n",
       "       'dining_room', 'washer_dryer', 'community_security_features',\n",
       "       'community_swimming_pool', 'floor_plan', 'updated_kitchen', 'city_view',\n",
       "       'swimming_pool', 'pets_allowed', 'park', 'modern_kitchen', 'ensuite',\n",
       "       'fenced_yard', 'open_floor_plan', 'rental_property', 'corner_lot',\n",
       "       'community_clubhouse', 'big_lot', 'den_or_office', 'carport',\n",
       "       'groundscare', 'hill_or_mountain_view', 'spa_or_hot_tub', 'big_yard',\n",
       "       'farm', 'high_ceiling', 'new_roof', 'views', 'master_bedroom',\n",
       "       'water_view', 'vaulted_ceiling', 'ranch', 'trails', 'cul_de_sac',\n",
       "       'clubhouse', 'tennis_court', 'master_suite'],\n",
       "      dtype='object')"
      ]
     },
     "execution_count": 3,
     "metadata": {},
     "output_type": "execute_result"
    }
   ],
   "source": [
    "result.columns"
   ]
  },
  {
   "cell_type": "code",
   "execution_count": 4,
   "metadata": {},
   "outputs": [],
   "source": [
    "x = result.drop(columns='list_price')\n",
    "y = result['list_price']"
   ]
  },
  {
   "cell_type": "code",
   "execution_count": 5,
   "metadata": {},
   "outputs": [],
   "source": [
    "param_grid = {\n",
    "    'n_estimators': [ 300],  # Número de árboles en el ensamble\n",
    "    'learning_rate': [ 0.2],  # Tasa de aprendizaje (learning rate)\n",
    "    'max_depth': [5],  # Profundidad máxima de los árboles\n",
    "    'min_child_weight': [ 3],  # Peso mínimo de una hoja\n",
    "    'gamma': [ 0.1, 0.2],  # Parámetro de penalización para la división de un nodo\n",
    "    'alpha': [ 3, 5],  # Término de regularización L1\n",
    "    'lambda': [ 0.1, 0.2],  # Término de regularización L2\n",
    "}"
   ]
  },
  {
   "cell_type": "code",
   "execution_count": 6,
   "metadata": {},
   "outputs": [],
   "source": [
    "x_train, x_test, y_train, y_test = train_test_split(x,y, test_size=0.2, random_state=1)"
   ]
  },
  {
   "cell_type": "code",
   "execution_count": 7,
   "metadata": {},
   "outputs": [
    {
     "data": {
      "text/plain": [
       "((12714, 69), (3179, 69))"
      ]
     },
     "execution_count": 7,
     "metadata": {},
     "output_type": "execute_result"
    }
   ],
   "source": [
    "x_train.shape, x_test.shape"
   ]
  },
  {
   "cell_type": "code",
   "execution_count": 8,
   "metadata": {},
   "outputs": [],
   "source": [
    "model = XGBRegressor(objective='reg:squarederror')"
   ]
  },
  {
   "cell_type": "code",
   "execution_count": 9,
   "metadata": {},
   "outputs": [],
   "source": [
    "grid_search = GridSearchCV(estimator=model, param_grid=param_grid, cv=5, scoring='neg_mean_squared_error',verbose=1, n_jobs=-1)"
   ]
  },
  {
   "cell_type": "code",
   "execution_count": 10,
   "metadata": {},
   "outputs": [
    {
     "name": "stdout",
     "output_type": "stream",
     "text": [
      "Fitting 5 folds for each of 8 candidates, totalling 40 fits\n"
     ]
    },
    {
     "data": {
      "text/html": [
       "<style>#sk-container-id-1 {color: black;}#sk-container-id-1 pre{padding: 0;}#sk-container-id-1 div.sk-toggleable {background-color: white;}#sk-container-id-1 label.sk-toggleable__label {cursor: pointer;display: block;width: 100%;margin-bottom: 0;padding: 0.3em;box-sizing: border-box;text-align: center;}#sk-container-id-1 label.sk-toggleable__label-arrow:before {content: \"▸\";float: left;margin-right: 0.25em;color: #696969;}#sk-container-id-1 label.sk-toggleable__label-arrow:hover:before {color: black;}#sk-container-id-1 div.sk-estimator:hover label.sk-toggleable__label-arrow:before {color: black;}#sk-container-id-1 div.sk-toggleable__content {max-height: 0;max-width: 0;overflow: hidden;text-align: left;background-color: #f0f8ff;}#sk-container-id-1 div.sk-toggleable__content pre {margin: 0.2em;color: black;border-radius: 0.25em;background-color: #f0f8ff;}#sk-container-id-1 input.sk-toggleable__control:checked~div.sk-toggleable__content {max-height: 200px;max-width: 100%;overflow: auto;}#sk-container-id-1 input.sk-toggleable__control:checked~label.sk-toggleable__label-arrow:before {content: \"▾\";}#sk-container-id-1 div.sk-estimator input.sk-toggleable__control:checked~label.sk-toggleable__label {background-color: #d4ebff;}#sk-container-id-1 div.sk-label input.sk-toggleable__control:checked~label.sk-toggleable__label {background-color: #d4ebff;}#sk-container-id-1 input.sk-hidden--visually {border: 0;clip: rect(1px 1px 1px 1px);clip: rect(1px, 1px, 1px, 1px);height: 1px;margin: -1px;overflow: hidden;padding: 0;position: absolute;width: 1px;}#sk-container-id-1 div.sk-estimator {font-family: monospace;background-color: #f0f8ff;border: 1px dotted black;border-radius: 0.25em;box-sizing: border-box;margin-bottom: 0.5em;}#sk-container-id-1 div.sk-estimator:hover {background-color: #d4ebff;}#sk-container-id-1 div.sk-parallel-item::after {content: \"\";width: 100%;border-bottom: 1px solid gray;flex-grow: 1;}#sk-container-id-1 div.sk-label:hover label.sk-toggleable__label {background-color: #d4ebff;}#sk-container-id-1 div.sk-serial::before {content: \"\";position: absolute;border-left: 1px solid gray;box-sizing: border-box;top: 0;bottom: 0;left: 50%;z-index: 0;}#sk-container-id-1 div.sk-serial {display: flex;flex-direction: column;align-items: center;background-color: white;padding-right: 0.2em;padding-left: 0.2em;position: relative;}#sk-container-id-1 div.sk-item {position: relative;z-index: 1;}#sk-container-id-1 div.sk-parallel {display: flex;align-items: stretch;justify-content: center;background-color: white;position: relative;}#sk-container-id-1 div.sk-item::before, #sk-container-id-1 div.sk-parallel-item::before {content: \"\";position: absolute;border-left: 1px solid gray;box-sizing: border-box;top: 0;bottom: 0;left: 50%;z-index: -1;}#sk-container-id-1 div.sk-parallel-item {display: flex;flex-direction: column;z-index: 1;position: relative;background-color: white;}#sk-container-id-1 div.sk-parallel-item:first-child::after {align-self: flex-end;width: 50%;}#sk-container-id-1 div.sk-parallel-item:last-child::after {align-self: flex-start;width: 50%;}#sk-container-id-1 div.sk-parallel-item:only-child::after {width: 0;}#sk-container-id-1 div.sk-dashed-wrapped {border: 1px dashed gray;margin: 0 0.4em 0.5em 0.4em;box-sizing: border-box;padding-bottom: 0.4em;background-color: white;}#sk-container-id-1 div.sk-label label {font-family: monospace;font-weight: bold;display: inline-block;line-height: 1.2em;}#sk-container-id-1 div.sk-label-container {text-align: center;}#sk-container-id-1 div.sk-container {/* jupyter's `normalize.less` sets `[hidden] { display: none; }` but bootstrap.min.css set `[hidden] { display: none !important; }` so we also need the `!important` here to be able to override the default hidden behavior on the sphinx rendered scikit-learn.org. See: https://github.com/scikit-learn/scikit-learn/issues/21755 */display: inline-block !important;position: relative;}#sk-container-id-1 div.sk-text-repr-fallback {display: none;}</style><div id=\"sk-container-id-1\" class=\"sk-top-container\"><div class=\"sk-text-repr-fallback\"><pre>GridSearchCV(cv=5,\n",
       "             estimator=XGBRegressor(base_score=None, booster=None,\n",
       "                                    callbacks=None, colsample_bylevel=None,\n",
       "                                    colsample_bynode=None,\n",
       "                                    colsample_bytree=None,\n",
       "                                    early_stopping_rounds=None,\n",
       "                                    enable_categorical=False, eval_metric=None,\n",
       "                                    feature_types=None, gamma=None, gpu_id=None,\n",
       "                                    grow_policy=None, importance_type=None,\n",
       "                                    interaction_constraints=None,\n",
       "                                    learning_rate=None, m...\n",
       "                                    max_depth=None, max_leaves=None,\n",
       "                                    min_child_weight=None, missing=nan,\n",
       "                                    monotone_constraints=None, n_estimators=100,\n",
       "                                    n_jobs=None, num_parallel_tree=None,\n",
       "                                    predictor=None, random_state=None, ...),\n",
       "             n_jobs=-1,\n",
       "             param_grid={&#x27;alpha&#x27;: [3, 5], &#x27;gamma&#x27;: [0.1, 0.2],\n",
       "                         &#x27;lambda&#x27;: [0.1, 0.2], &#x27;learning_rate&#x27;: [0.2],\n",
       "                         &#x27;max_depth&#x27;: [5], &#x27;min_child_weight&#x27;: [3],\n",
       "                         &#x27;n_estimators&#x27;: [300]},\n",
       "             scoring=&#x27;neg_mean_squared_error&#x27;, verbose=1)</pre><b>In a Jupyter environment, please rerun this cell to show the HTML representation or trust the notebook. <br />On GitHub, the HTML representation is unable to render, please try loading this page with nbviewer.org.</b></div><div class=\"sk-container\" hidden><div class=\"sk-item sk-dashed-wrapped\"><div class=\"sk-label-container\"><div class=\"sk-label sk-toggleable\"><input class=\"sk-toggleable__control sk-hidden--visually\" id=\"sk-estimator-id-1\" type=\"checkbox\" ><label for=\"sk-estimator-id-1\" class=\"sk-toggleable__label sk-toggleable__label-arrow\">GridSearchCV</label><div class=\"sk-toggleable__content\"><pre>GridSearchCV(cv=5,\n",
       "             estimator=XGBRegressor(base_score=None, booster=None,\n",
       "                                    callbacks=None, colsample_bylevel=None,\n",
       "                                    colsample_bynode=None,\n",
       "                                    colsample_bytree=None,\n",
       "                                    early_stopping_rounds=None,\n",
       "                                    enable_categorical=False, eval_metric=None,\n",
       "                                    feature_types=None, gamma=None, gpu_id=None,\n",
       "                                    grow_policy=None, importance_type=None,\n",
       "                                    interaction_constraints=None,\n",
       "                                    learning_rate=None, m...\n",
       "                                    max_depth=None, max_leaves=None,\n",
       "                                    min_child_weight=None, missing=nan,\n",
       "                                    monotone_constraints=None, n_estimators=100,\n",
       "                                    n_jobs=None, num_parallel_tree=None,\n",
       "                                    predictor=None, random_state=None, ...),\n",
       "             n_jobs=-1,\n",
       "             param_grid={&#x27;alpha&#x27;: [3, 5], &#x27;gamma&#x27;: [0.1, 0.2],\n",
       "                         &#x27;lambda&#x27;: [0.1, 0.2], &#x27;learning_rate&#x27;: [0.2],\n",
       "                         &#x27;max_depth&#x27;: [5], &#x27;min_child_weight&#x27;: [3],\n",
       "                         &#x27;n_estimators&#x27;: [300]},\n",
       "             scoring=&#x27;neg_mean_squared_error&#x27;, verbose=1)</pre></div></div></div><div class=\"sk-parallel\"><div class=\"sk-parallel-item\"><div class=\"sk-item\"><div class=\"sk-label-container\"><div class=\"sk-label sk-toggleable\"><input class=\"sk-toggleable__control sk-hidden--visually\" id=\"sk-estimator-id-2\" type=\"checkbox\" ><label for=\"sk-estimator-id-2\" class=\"sk-toggleable__label sk-toggleable__label-arrow\">estimator: XGBRegressor</label><div class=\"sk-toggleable__content\"><pre>XGBRegressor(base_score=None, booster=None, callbacks=None,\n",
       "             colsample_bylevel=None, colsample_bynode=None,\n",
       "             colsample_bytree=None, early_stopping_rounds=None,\n",
       "             enable_categorical=False, eval_metric=None, feature_types=None,\n",
       "             gamma=None, gpu_id=None, grow_policy=None, importance_type=None,\n",
       "             interaction_constraints=None, learning_rate=None, max_bin=None,\n",
       "             max_cat_threshold=None, max_cat_to_onehot=None,\n",
       "             max_delta_step=None, max_depth=None, max_leaves=None,\n",
       "             min_child_weight=None, missing=nan, monotone_constraints=None,\n",
       "             n_estimators=100, n_jobs=None, num_parallel_tree=None,\n",
       "             predictor=None, random_state=None, ...)</pre></div></div></div><div class=\"sk-serial\"><div class=\"sk-item\"><div class=\"sk-estimator sk-toggleable\"><input class=\"sk-toggleable__control sk-hidden--visually\" id=\"sk-estimator-id-3\" type=\"checkbox\" ><label for=\"sk-estimator-id-3\" class=\"sk-toggleable__label sk-toggleable__label-arrow\">XGBRegressor</label><div class=\"sk-toggleable__content\"><pre>XGBRegressor(base_score=None, booster=None, callbacks=None,\n",
       "             colsample_bylevel=None, colsample_bynode=None,\n",
       "             colsample_bytree=None, early_stopping_rounds=None,\n",
       "             enable_categorical=False, eval_metric=None, feature_types=None,\n",
       "             gamma=None, gpu_id=None, grow_policy=None, importance_type=None,\n",
       "             interaction_constraints=None, learning_rate=None, max_bin=None,\n",
       "             max_cat_threshold=None, max_cat_to_onehot=None,\n",
       "             max_delta_step=None, max_depth=None, max_leaves=None,\n",
       "             min_child_weight=None, missing=nan, monotone_constraints=None,\n",
       "             n_estimators=100, n_jobs=None, num_parallel_tree=None,\n",
       "             predictor=None, random_state=None, ...)</pre></div></div></div></div></div></div></div></div></div></div>"
      ],
      "text/plain": [
       "GridSearchCV(cv=5,\n",
       "             estimator=XGBRegressor(base_score=None, booster=None,\n",
       "                                    callbacks=None, colsample_bylevel=None,\n",
       "                                    colsample_bynode=None,\n",
       "                                    colsample_bytree=None,\n",
       "                                    early_stopping_rounds=None,\n",
       "                                    enable_categorical=False, eval_metric=None,\n",
       "                                    feature_types=None, gamma=None, gpu_id=None,\n",
       "                                    grow_policy=None, importance_type=None,\n",
       "                                    interaction_constraints=None,\n",
       "                                    learning_rate=None, m...\n",
       "                                    max_depth=None, max_leaves=None,\n",
       "                                    min_child_weight=None, missing=nan,\n",
       "                                    monotone_constraints=None, n_estimators=100,\n",
       "                                    n_jobs=None, num_parallel_tree=None,\n",
       "                                    predictor=None, random_state=None, ...),\n",
       "             n_jobs=-1,\n",
       "             param_grid={'alpha': [3, 5], 'gamma': [0.1, 0.2],\n",
       "                         'lambda': [0.1, 0.2], 'learning_rate': [0.2],\n",
       "                         'max_depth': [5], 'min_child_weight': [3],\n",
       "                         'n_estimators': [300]},\n",
       "             scoring='neg_mean_squared_error', verbose=1)"
      ]
     },
     "execution_count": 10,
     "metadata": {},
     "output_type": "execute_result"
    }
   ],
   "source": [
    "grid_search.fit(x_train, y_train)"
   ]
  },
  {
   "cell_type": "code",
   "execution_count": 11,
   "metadata": {},
   "outputs": [],
   "source": [
    "best_params = grid_search.best_params_\n",
    "best_model = grid_search.best_estimator_"
   ]
  },
  {
   "cell_type": "code",
   "execution_count": 12,
   "metadata": {},
   "outputs": [
    {
     "data": {
      "text/plain": [
       "{'alpha': 5,\n",
       " 'gamma': 0.1,\n",
       " 'lambda': 0.2,\n",
       " 'learning_rate': 0.2,\n",
       " 'max_depth': 5,\n",
       " 'min_child_weight': 3,\n",
       " 'n_estimators': 300}"
      ]
     },
     "execution_count": 12,
     "metadata": {},
     "output_type": "execute_result"
    }
   ],
   "source": [
    "best_params"
   ]
  },
  {
   "cell_type": "code",
   "execution_count": 13,
   "metadata": {},
   "outputs": [],
   "source": [
    "y_pred = best_model.predict(x_test)"
   ]
  },
  {
   "cell_type": "code",
   "execution_count": 14,
   "metadata": {},
   "outputs": [
    {
     "name": "stdout",
     "output_type": "stream",
     "text": [
      "Mean Squared Error: 59777771172.08073\n",
      "Mean Absolute Error: 118951.80090520186\n"
     ]
    }
   ],
   "source": [
    "mse = mean_squared_error(y_test, y_pred)\n",
    "mae = mean_absolute_error(y_test, y_pred)\n",
    "\n",
    "print(\"Mean Squared Error:\", mse)\n",
    "print(\"Mean Absolute Error:\", mae)"
   ]
  },
  {
   "cell_type": "code",
   "execution_count": 15,
   "metadata": {},
   "outputs": [
    {
     "data": {
      "image/png": "[encoded data removed]",
      "text/plain": [
       "<Figure size 640x480 with 1 Axes>"
      ]
     },
     "metadata": {},
     "output_type": "display_data"
    }
   ],
   "source": [
    "xgb.plot_importance(best_model)\n",
    "plt.show()"
   ]
  },
  {
   "cell_type": "code",
   "execution_count": 16,
   "metadata": {},
   "outputs": [
    {
     "data": {
      "text/plain": [
       "['modelo_entrenado_prices.joblib']"
      ]
     },
     "execution_count": 16,
     "metadata": {},
     "output_type": "execute_result"
    }
   ],
   "source": [
    "import joblib\n",
    "modelo_guardado = 'modelo_entrenado_prices.joblib'\n",
    "\n",
    "joblib.dump(best_model, modelo_guardado)"
   ]
  },
  {
   "cell_type": "code",
   "execution_count": 17,
   "metadata": {},
   "outputs": [],
   "source": [
    "def error_porcentual(df):\n",
    "    df = df.copy()\n",
    "    df['error_porcentual']=0\n",
    "    for index,row in df.iterrows():\n",
    "        \n",
    "        price = row['list_price']\n",
    "        pred = row['prediction']\n",
    "        error_porcentual =((abs( price-pred))/price)*100\n",
    "\n",
    "        df.at[index,'error_porcentual'] = error_porcentual\n",
    "\n",
    "    return df"
   ]
  },
  {
   "cell_type": "code",
   "execution_count": 18,
   "metadata": {},
   "outputs": [],
   "source": [
    "df_comparacion = y_test.reset_index()"
   ]
  },
  {
   "cell_type": "code",
   "execution_count": 19,
   "metadata": {},
   "outputs": [],
   "source": [
    "df_comparacion['prediction'] = y_pred"
   ]
  },
  {
   "cell_type": "code",
   "execution_count": 20,
   "metadata": {},
   "outputs": [],
   "source": [
    "df_comparacion = error_porcentual(df_comparacion)"
   ]
  },
  {
   "cell_type": "code",
   "execution_count": 21,
   "metadata": {},
   "outputs": [
    {
     "data": {
      "text/html": [
       "<div>\n",
       "<style scoped>\n",
       "    .dataframe tbody tr th:only-of-type {\n",
       "        vertical-align: middle;\n",
       "    }\n",
       "\n",
       "    .dataframe tbody tr th {\n",
       "        vertical-align: top;\n",
       "    }\n",
       "\n",
       "    .dataframe thead th {\n",
       "        text-align: right;\n",
       "    }\n",
       "</style>\n",
       "<table border=\"1\" class=\"dataframe\">\n",
       "  <thead>\n",
       "    <tr style=\"text-align: right;\">\n",
       "      <th></th>\n",
       "      <th>index</th>\n",
       "      <th>list_price</th>\n",
       "      <th>prediction</th>\n",
       "      <th>error_porcentual</th>\n",
       "    </tr>\n",
       "  </thead>\n",
       "  <tbody>\n",
       "    <tr>\n",
       "      <th>1</th>\n",
       "      <td>10124</td>\n",
       "      <td>1175000.0</td>\n",
       "      <td>9.777881e+05</td>\n",
       "      <td>16.783995</td>\n",
       "    </tr>\n",
       "    <tr>\n",
       "      <th>2</th>\n",
       "      <td>1578</td>\n",
       "      <td>849000.0</td>\n",
       "      <td>6.602759e+05</td>\n",
       "      <td>22.228990</td>\n",
       "    </tr>\n",
       "    <tr>\n",
       "      <th>3</th>\n",
       "      <td>2580</td>\n",
       "      <td>635000.0</td>\n",
       "      <td>6.605442e+05</td>\n",
       "      <td>4.022707</td>\n",
       "    </tr>\n",
       "    <tr>\n",
       "      <th>6</th>\n",
       "      <td>9736</td>\n",
       "      <td>1399000.0</td>\n",
       "      <td>1.506456e+06</td>\n",
       "      <td>7.680915</td>\n",
       "    </tr>\n",
       "    <tr>\n",
       "      <th>7</th>\n",
       "      <td>4744</td>\n",
       "      <td>220000.0</td>\n",
       "      <td>1.973037e+05</td>\n",
       "      <td>10.316484</td>\n",
       "    </tr>\n",
       "    <tr>\n",
       "      <th>...</th>\n",
       "      <td>...</td>\n",
       "      <td>...</td>\n",
       "      <td>...</td>\n",
       "      <td>...</td>\n",
       "    </tr>\n",
       "    <tr>\n",
       "      <th>3173</th>\n",
       "      <td>14872</td>\n",
       "      <td>299900.0</td>\n",
       "      <td>2.712202e+05</td>\n",
       "      <td>9.563115</td>\n",
       "    </tr>\n",
       "    <tr>\n",
       "      <th>3174</th>\n",
       "      <td>357</td>\n",
       "      <td>699900.0</td>\n",
       "      <td>6.237263e+05</td>\n",
       "      <td>10.883510</td>\n",
       "    </tr>\n",
       "    <tr>\n",
       "      <th>3175</th>\n",
       "      <td>4721</td>\n",
       "      <td>4895000.0</td>\n",
       "      <td>4.169081e+06</td>\n",
       "      <td>14.829801</td>\n",
       "    </tr>\n",
       "    <tr>\n",
       "      <th>3177</th>\n",
       "      <td>3687</td>\n",
       "      <td>717500.0</td>\n",
       "      <td>7.808354e+05</td>\n",
       "      <td>8.827230</td>\n",
       "    </tr>\n",
       "    <tr>\n",
       "      <th>3178</th>\n",
       "      <td>7668</td>\n",
       "      <td>139900.0</td>\n",
       "      <td>1.444118e+05</td>\n",
       "      <td>3.224982</td>\n",
       "    </tr>\n",
       "  </tbody>\n",
       "</table>\n",
       "<p>2422 rows × 4 columns</p>\n",
       "</div>"
      ],
      "text/plain": [
       "      index  list_price    prediction  error_porcentual\n",
       "1     10124   1175000.0  9.777881e+05         16.783995\n",
       "2      1578    849000.0  6.602759e+05         22.228990\n",
       "3      2580    635000.0  6.605442e+05          4.022707\n",
       "6      9736   1399000.0  1.506456e+06          7.680915\n",
       "7      4744    220000.0  1.973037e+05         10.316484\n",
       "...     ...         ...           ...               ...\n",
       "3173  14872    299900.0  2.712202e+05          9.563115\n",
       "3174    357    699900.0  6.237263e+05         10.883510\n",
       "3175   4721   4895000.0  4.169081e+06         14.829801\n",
       "3177   3687    717500.0  7.808354e+05          8.827230\n",
       "3178   7668    139900.0  1.444118e+05          3.224982\n",
       "\n",
       "[2422 rows x 4 columns]"
      ]
     },
     "execution_count": 21,
     "metadata": {},
     "output_type": "execute_result"
    }
   ],
   "source": [
    "df_comparacion[df_comparacion['error_porcentual'] <= 30 ]"
   ]
  },
  {
   "cell_type": "code",
   "execution_count": 22,
   "metadata": {},
   "outputs": [
    {
     "data": {
      "text/plain": [
       "35.225830449322885"
      ]
     },
     "execution_count": 22,
     "metadata": {},
     "output_type": "execute_result"
    }
   ],
   "source": [
    "df_comparacion['error_porcentual'].mean()"
   ]
  },
  {
   "cell_type": "code",
   "execution_count": 60,
   "metadata": {},
   "outputs": [],
   "source": [
    "houses_for_sale_modelo = pd.read_csv('..\\Dataset limpios\\Houses_for_sale_processed_with_pred.csv')"
   ]
  },
  {
   "cell_type": "code",
   "execution_count": 61,
   "metadata": {},
   "outputs": [],
   "source": [
    "houses_for_sale = pd.read_csv('..\\Dataset limpios\\Houses_for_sale_processed.csv')"
   ]
  },
  {
   "cell_type": "code",
   "execution_count": 62,
   "metadata": {},
   "outputs": [],
   "source": [
    "loaded_model = joblib.load('modelo_entrenado_prices.joblib')"
   ]
  },
  {
   "cell_type": "code",
   "execution_count": 63,
   "metadata": {},
   "outputs": [],
   "source": [
    "x=houses_for_sale_modelo[loaded_model.feature_names_in_]"
   ]
  },
  {
   "cell_type": "code",
   "execution_count": 64,
   "metadata": {},
   "outputs": [],
   "source": [
    "y = houses_for_sale_modelo['list_price']"
   ]
  },
  {
   "cell_type": "code",
   "execution_count": 65,
   "metadata": {},
   "outputs": [],
   "source": [
    "prediction = loaded_model.predict(x)"
   ]
  },
  {
   "cell_type": "code",
   "execution_count": 58,
   "metadata": {},
   "outputs": [
    {
     "data": {
      "text/plain": [
       "11139"
      ]
     },
     "execution_count": 58,
     "metadata": {},
     "output_type": "execute_result"
    }
   ],
   "source": [
    "len(prediction)"
   ]
  },
  {
   "cell_type": "code",
   "execution_count": 66,
   "metadata": {},
   "outputs": [],
   "source": [
    "houses_for_sale['prediction']=prediction"
   ]
  },
  {
   "cell_type": "code",
   "execution_count": 67,
   "metadata": {},
   "outputs": [
    {
     "data": {
      "text/html": [
       "<div>\n",
       "<style scoped>\n",
       "    .dataframe tbody tr th:only-of-type {\n",
       "        vertical-align: middle;\n",
       "    }\n",
       "\n",
       "    .dataframe tbody tr th {\n",
       "        vertical-align: top;\n",
       "    }\n",
       "\n",
       "    .dataframe thead th {\n",
       "        text-align: right;\n",
       "    }\n",
       "</style>\n",
       "<table border=\"1\" class=\"dataframe\">\n",
       "  <thead>\n",
       "    <tr style=\"text-align: right;\">\n",
       "      <th></th>\n",
       "      <th>property_id</th>\n",
       "      <th>lon</th>\n",
       "      <th>lat</th>\n",
       "      <th>postal_code</th>\n",
       "      <th>state</th>\n",
       "      <th>city</th>\n",
       "      <th>state_code</th>\n",
       "      <th>line</th>\n",
       "      <th>fips_code</th>\n",
       "      <th>name</th>\n",
       "      <th>...</th>\n",
       "      <th>type</th>\n",
       "      <th>primary_photo</th>\n",
       "      <th>tags</th>\n",
       "      <th>list_date</th>\n",
       "      <th>photos</th>\n",
       "      <th>list_price</th>\n",
       "      <th>listing_id</th>\n",
       "      <th>primary</th>\n",
       "      <th>status</th>\n",
       "      <th>prediction</th>\n",
       "    </tr>\n",
       "  </thead>\n",
       "  <tbody>\n",
       "    <tr>\n",
       "      <th>0</th>\n",
       "      <td>1000163193</td>\n",
       "      <td>-122.340542</td>\n",
       "      <td>37.948990</td>\n",
       "      <td>94804</td>\n",
       "      <td>California</td>\n",
       "      <td>Richmond</td>\n",
       "      <td>CA</td>\n",
       "      <td>2814 Lowell Ave</td>\n",
       "      <td>6013.0</td>\n",
       "      <td>Contra Costa</td>\n",
       "      <td>...</td>\n",
       "      <td>single_family</td>\n",
       "      <td>https://ap.rdcpix.com/c40746b359c3d70b1696f82f...</td>\n",
       "      <td>['central_air', 'community_outdoor_space', 'di...</td>\n",
       "      <td>2023-09-16</td>\n",
       "      <td>https://ap.rdcpix.com/c40746b359c3d70b1696f82f...</td>\n",
       "      <td>899000.0</td>\n",
       "      <td>2.959741e+09</td>\n",
       "      <td>True</td>\n",
       "      <td>for_sale</td>\n",
       "      <td>8.297158e+05</td>\n",
       "    </tr>\n",
       "    <tr>\n",
       "      <th>1</th>\n",
       "      <td>1000748625</td>\n",
       "      <td>-122.196956</td>\n",
       "      <td>47.918020</td>\n",
       "      <td>98208</td>\n",
       "      <td>Washington</td>\n",
       "      <td>Everett</td>\n",
       "      <td>WA</td>\n",
       "      <td>8729 Del Campo Dr</td>\n",
       "      <td>53061.0</td>\n",
       "      <td>Snohomish</td>\n",
       "      <td>...</td>\n",
       "      <td>single_family</td>\n",
       "      <td>https://ap.rdcpix.com/7501bd1b85a32ead25dd46b5...</td>\n",
       "      <td>['basement', 'community_outdoor_space', 'dinin...</td>\n",
       "      <td>2023-09-27</td>\n",
       "      <td>https://ap.rdcpix.com/7501bd1b85a32ead25dd46b5...</td>\n",
       "      <td>870000.0</td>\n",
       "      <td>2.960037e+09</td>\n",
       "      <td>True</td>\n",
       "      <td>for_sale</td>\n",
       "      <td>9.260006e+05</td>\n",
       "    </tr>\n",
       "    <tr>\n",
       "      <th>2</th>\n",
       "      <td>1001237574</td>\n",
       "      <td>-112.313678</td>\n",
       "      <td>33.763826</td>\n",
       "      <td>85383</td>\n",
       "      <td>Arizona</td>\n",
       "      <td>Peoria</td>\n",
       "      <td>AZ</td>\n",
       "      <td>31010 N 117th Dr</td>\n",
       "      <td>4013.0</td>\n",
       "      <td>Maricopa</td>\n",
       "      <td>...</td>\n",
       "      <td>single_family</td>\n",
       "      <td>https://ap.rdcpix.com/fd492f6878f09cbe6eda231a...</td>\n",
       "      <td>['community_boat_facilities', 'community_golf'...</td>\n",
       "      <td>2023-09-27</td>\n",
       "      <td>https://ap.rdcpix.com/fd492f6878f09cbe6eda231a...</td>\n",
       "      <td>1899000.0</td>\n",
       "      <td>2.960018e+09</td>\n",
       "      <td>True</td>\n",
       "      <td>for_sale</td>\n",
       "      <td>1.881548e+06</td>\n",
       "    </tr>\n",
       "    <tr>\n",
       "      <th>3</th>\n",
       "      <td>1001483948</td>\n",
       "      <td>-117.133291</td>\n",
       "      <td>33.540322</td>\n",
       "      <td>92591</td>\n",
       "      <td>California</td>\n",
       "      <td>Temecula</td>\n",
       "      <td>CA</td>\n",
       "      <td>39920 N General Kearny Rd</td>\n",
       "      <td>6065.0</td>\n",
       "      <td>Riverside</td>\n",
       "      <td>...</td>\n",
       "      <td>single_family</td>\n",
       "      <td>https://ap.rdcpix.com/0487398867f4fdca5c707a75...</td>\n",
       "      <td>['central_air', 'central_heat', 'city_view', '...</td>\n",
       "      <td>2023-09-26</td>\n",
       "      <td>https://ap.rdcpix.com/0487398867f4fdca5c707a75...</td>\n",
       "      <td>679000.0</td>\n",
       "      <td>2.959985e+09</td>\n",
       "      <td>True</td>\n",
       "      <td>for_sale</td>\n",
       "      <td>9.240058e+05</td>\n",
       "    </tr>\n",
       "    <tr>\n",
       "      <th>4</th>\n",
       "      <td>1001489359</td>\n",
       "      <td>-122.206693</td>\n",
       "      <td>37.804517</td>\n",
       "      <td>94602</td>\n",
       "      <td>California</td>\n",
       "      <td>Oakland</td>\n",
       "      <td>CA</td>\n",
       "      <td>2520 Rampart St</td>\n",
       "      <td>6001.0</td>\n",
       "      <td>Alameda</td>\n",
       "      <td>...</td>\n",
       "      <td>single_family</td>\n",
       "      <td>https://ap.rdcpix.com/8926b1a848f534b30828ca98...</td>\n",
       "      <td>['community_outdoor_space', 'den_or_office', '...</td>\n",
       "      <td>2023-09-26</td>\n",
       "      <td>https://ap.rdcpix.com/8926b1a848f534b30828ca98...</td>\n",
       "      <td>799000.0</td>\n",
       "      <td>2.960011e+09</td>\n",
       "      <td>True</td>\n",
       "      <td>for_sale</td>\n",
       "      <td>7.833759e+05</td>\n",
       "    </tr>\n",
       "  </tbody>\n",
       "</table>\n",
       "<p>5 rows × 34 columns</p>\n",
       "</div>"
      ],
      "text/plain": [
       "   property_id         lon        lat  postal_code       state      city  \\\n",
       "0   1000163193 -122.340542  37.948990        94804  California  Richmond   \n",
       "1   1000748625 -122.196956  47.918020        98208  Washington   Everett   \n",
       "2   1001237574 -112.313678  33.763826        85383     Arizona    Peoria   \n",
       "3   1001483948 -117.133291  33.540322        92591  California  Temecula   \n",
       "4   1001489359 -122.206693  37.804517        94602  California   Oakland   \n",
       "\n",
       "  state_code                       line  fips_code          name  ...  \\\n",
       "0         CA            2814 Lowell Ave     6013.0  Contra Costa  ...   \n",
       "1         WA          8729 Del Campo Dr    53061.0     Snohomish  ...   \n",
       "2         AZ           31010 N 117th Dr     4013.0      Maricopa  ...   \n",
       "3         CA  39920 N General Kearny Rd     6065.0     Riverside  ...   \n",
       "4         CA            2520 Rampart St     6001.0       Alameda  ...   \n",
       "\n",
       "            type                                      primary_photo  \\\n",
       "0  single_family  https://ap.rdcpix.com/c40746b359c3d70b1696f82f...   \n",
       "1  single_family  https://ap.rdcpix.com/7501bd1b85a32ead25dd46b5...   \n",
       "2  single_family  https://ap.rdcpix.com/fd492f6878f09cbe6eda231a...   \n",
       "3  single_family  https://ap.rdcpix.com/0487398867f4fdca5c707a75...   \n",
       "4  single_family  https://ap.rdcpix.com/8926b1a848f534b30828ca98...   \n",
       "\n",
       "                                                tags   list_date  \\\n",
       "0  ['central_air', 'community_outdoor_space', 'di...  2023-09-16   \n",
       "1  ['basement', 'community_outdoor_space', 'dinin...  2023-09-27   \n",
       "2  ['community_boat_facilities', 'community_golf'...  2023-09-27   \n",
       "3  ['central_air', 'central_heat', 'city_view', '...  2023-09-26   \n",
       "4  ['community_outdoor_space', 'den_or_office', '...  2023-09-26   \n",
       "\n",
       "                                              photos list_price    listing_id  \\\n",
       "0  https://ap.rdcpix.com/c40746b359c3d70b1696f82f...   899000.0  2.959741e+09   \n",
       "1  https://ap.rdcpix.com/7501bd1b85a32ead25dd46b5...   870000.0  2.960037e+09   \n",
       "2  https://ap.rdcpix.com/fd492f6878f09cbe6eda231a...  1899000.0  2.960018e+09   \n",
       "3  https://ap.rdcpix.com/0487398867f4fdca5c707a75...   679000.0  2.959985e+09   \n",
       "4  https://ap.rdcpix.com/8926b1a848f534b30828ca98...   799000.0  2.960011e+09   \n",
       "\n",
       "   primary    status    prediction  \n",
       "0     True  for_sale  8.297158e+05  \n",
       "1     True  for_sale  9.260006e+05  \n",
       "2     True  for_sale  1.881548e+06  \n",
       "3     True  for_sale  9.240058e+05  \n",
       "4     True  for_sale  7.833759e+05  \n",
       "\n",
       "[5 rows x 34 columns]"
      ]
     },
     "execution_count": 67,
     "metadata": {},
     "output_type": "execute_result"
    }
   ],
   "source": [
    "houses_for_sale.head()"
   ]
  },
  {
   "cell_type": "code",
   "execution_count": 68,
   "metadata": {},
   "outputs": [],
   "source": [
    "houses_for_sale.to_csv('..\\Dataset limpios\\Houses_for_sale_processed_with_pred.csv')"
   ]
  }
 ],
 "metadata": {
  "kernelspec": {
   "display_name": "Python 3",
   "language": "python",
   "name": "python3"
  },
  "language_info": {
   "codemirror_mode": {
    "name": "ipython",
    "version": 3
   },
   "file_extension": ".py",
   "mimetype": "text/x-python",
   "name": "python",
   "nbconvert_exporter": "python",
   "pygments_lexer": "ipython3",
   "version": "3.11.5"
  },
  "orig_nbformat": 4
 },
 "nbformat": 4,
 "nbformat_minor": 2
}
