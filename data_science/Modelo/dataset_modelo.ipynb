{
 "cells": [
  {
   "cell_type": "code",
   "execution_count": 263,
   "metadata": {},
   "outputs": [],
   "source": [
    "import pandas as pd\n",
    "import numpy as np \n",
    "import time\n",
    "\n",
    "from sklearn.preprocessing import LabelEncoder\n",
    "from sklearn.model_selection import train_test_split\n",
    "from xgboost import XGBRegressor\n",
    "import xgboost as xgb\n",
    "\n"
   ]
  },
  {
   "cell_type": "code",
   "execution_count": 264,
   "metadata": {},
   "outputs": [],
   "source": [
    "Data_to_add = pd.read_csv('../Datasets originales/Df_sold_homes_to_add.csv')"
   ]
  },
  {
   "cell_type": "code",
   "execution_count": 265,
   "metadata": {},
   "outputs": [],
   "source": [
    "propertys_ids_to_add = Data_to_add['property_id'].to_list()"
   ]
  },
  {
   "cell_type": "code",
   "execution_count": 266,
   "metadata": {},
   "outputs": [],
   "source": [
    "Houses_for_sale = pd.read_csv('../Dataset limpios/Houses_for_sale_processed.csv')"
   ]
  },
  {
   "cell_type": "code",
   "execution_count": 267,
   "metadata": {},
   "outputs": [],
   "source": [
    "Data = pd.read_csv('../Dataset limpios/Houses_sold_processed.csv')"
   ]
  },
  {
   "cell_type": "code",
   "execution_count": 268,
   "metadata": {},
   "outputs": [],
   "source": [
    "dicts = []\n",
    "for id in propertys_ids_to_add:\n",
    "    \n",
    "    if id not in Data['property_id'].to_list():\n",
    "        dict = Houses_for_sale[Houses_for_sale['property_id']==id].to_dict()\n",
    "        dicts.append(dict)"
   ]
  },
  {
   "cell_type": "code",
   "execution_count": 269,
   "metadata": {},
   "outputs": [
    {
     "name": "stdout",
     "output_type": "stream",
     "text": [
      "Hay un total de 6662 ids para añadir al dataset de entrenamiento de los cuales \n",
      "\n",
      "      6650 no estaban ya en el dataset\n"
     ]
    }
   ],
   "source": [
    "print(f'''Hay un total de {len(propertys_ids_to_add)} ids para añadir al dataset de entrenamiento de los cuales \\n\n",
    "      {len(dicts)} no estaban ya en el dataset''')"
   ]
  },
  {
   "cell_type": "code",
   "execution_count": 270,
   "metadata": {},
   "outputs": [],
   "source": [
    "dfs = []\n",
    "for dict in dicts: \n",
    "    df = pd.DataFrame(dict)\n",
    "    dfs.append(df)\n",
    "Data_to_add = pd.concat(dfs,ignore_index=True)"
   ]
  },
  {
   "cell_type": "code",
   "execution_count": 271,
   "metadata": {},
   "outputs": [
    {
     "data": {
      "text/html": [
       "<div>\n",
       "<style scoped>\n",
       "    .dataframe tbody tr th:only-of-type {\n",
       "        vertical-align: middle;\n",
       "    }\n",
       "\n",
       "    .dataframe tbody tr th {\n",
       "        vertical-align: top;\n",
       "    }\n",
       "\n",
       "    .dataframe thead th {\n",
       "        text-align: right;\n",
       "    }\n",
       "</style>\n",
       "<table border=\"1\" class=\"dataframe\">\n",
       "  <thead>\n",
       "    <tr style=\"text-align: right;\">\n",
       "      <th></th>\n",
       "      <th>property_id</th>\n",
       "      <th>lon</th>\n",
       "      <th>lat</th>\n",
       "      <th>postal_code</th>\n",
       "      <th>state</th>\n",
       "      <th>city</th>\n",
       "      <th>state_code</th>\n",
       "      <th>line</th>\n",
       "      <th>fips_code</th>\n",
       "      <th>name</th>\n",
       "      <th>...</th>\n",
       "      <th>beds</th>\n",
       "      <th>type</th>\n",
       "      <th>primary_photo</th>\n",
       "      <th>tags</th>\n",
       "      <th>list_date</th>\n",
       "      <th>photos</th>\n",
       "      <th>list_price</th>\n",
       "      <th>listing_id</th>\n",
       "      <th>primary</th>\n",
       "      <th>status</th>\n",
       "    </tr>\n",
       "  </thead>\n",
       "  <tbody>\n",
       "    <tr>\n",
       "      <th>0</th>\n",
       "      <td>1000163193</td>\n",
       "      <td>-122.340542</td>\n",
       "      <td>37.94899</td>\n",
       "      <td>94804</td>\n",
       "      <td>California</td>\n",
       "      <td>Richmond</td>\n",
       "      <td>CA</td>\n",
       "      <td>2814 Lowell Ave</td>\n",
       "      <td>6013.0</td>\n",
       "      <td>Contra Costa</td>\n",
       "      <td>...</td>\n",
       "      <td>2.0</td>\n",
       "      <td>single_family</td>\n",
       "      <td>https://ap.rdcpix.com/c40746b359c3d70b1696f82f...</td>\n",
       "      <td>['central_air', 'community_outdoor_space', 'di...</td>\n",
       "      <td>2023-09-16</td>\n",
       "      <td>https://ap.rdcpix.com/c40746b359c3d70b1696f82f...</td>\n",
       "      <td>899000.0</td>\n",
       "      <td>2.959741e+09</td>\n",
       "      <td>True</td>\n",
       "      <td>for_sale</td>\n",
       "    </tr>\n",
       "    <tr>\n",
       "      <th>1</th>\n",
       "      <td>1000748625</td>\n",
       "      <td>-122.196956</td>\n",
       "      <td>47.91802</td>\n",
       "      <td>98208</td>\n",
       "      <td>Washington</td>\n",
       "      <td>Everett</td>\n",
       "      <td>WA</td>\n",
       "      <td>8729 Del Campo Dr</td>\n",
       "      <td>53061.0</td>\n",
       "      <td>Snohomish</td>\n",
       "      <td>...</td>\n",
       "      <td>4.0</td>\n",
       "      <td>single_family</td>\n",
       "      <td>https://ap.rdcpix.com/7501bd1b85a32ead25dd46b5...</td>\n",
       "      <td>['basement', 'community_outdoor_space', 'dinin...</td>\n",
       "      <td>2023-09-27</td>\n",
       "      <td>https://ap.rdcpix.com/7501bd1b85a32ead25dd46b5...</td>\n",
       "      <td>870000.0</td>\n",
       "      <td>2.960037e+09</td>\n",
       "      <td>True</td>\n",
       "      <td>for_sale</td>\n",
       "    </tr>\n",
       "  </tbody>\n",
       "</table>\n",
       "<p>2 rows × 33 columns</p>\n",
       "</div>"
      ],
      "text/plain": [
       "   property_id         lon       lat  postal_code       state      city  \\\n",
       "0   1000163193 -122.340542  37.94899        94804  California  Richmond   \n",
       "1   1000748625 -122.196956  47.91802        98208  Washington   Everett   \n",
       "\n",
       "  state_code               line  fips_code          name  ... beds  \\\n",
       "0         CA    2814 Lowell Ave     6013.0  Contra Costa  ...  2.0   \n",
       "1         WA  8729 Del Campo Dr    53061.0     Snohomish  ...  4.0   \n",
       "\n",
       "            type                                      primary_photo  \\\n",
       "0  single_family  https://ap.rdcpix.com/c40746b359c3d70b1696f82f...   \n",
       "1  single_family  https://ap.rdcpix.com/7501bd1b85a32ead25dd46b5...   \n",
       "\n",
       "                                                tags   list_date  \\\n",
       "0  ['central_air', 'community_outdoor_space', 'di...  2023-09-16   \n",
       "1  ['basement', 'community_outdoor_space', 'dinin...  2023-09-27   \n",
       "\n",
       "                                              photos list_price    listing_id  \\\n",
       "0  https://ap.rdcpix.com/c40746b359c3d70b1696f82f...   899000.0  2.959741e+09   \n",
       "1  https://ap.rdcpix.com/7501bd1b85a32ead25dd46b5...   870000.0  2.960037e+09   \n",
       "\n",
       "   primary    status  \n",
       "0     True  for_sale  \n",
       "1     True  for_sale  \n",
       "\n",
       "[2 rows x 33 columns]"
      ]
     },
     "execution_count": 271,
     "metadata": {},
     "output_type": "execute_result"
    }
   ],
   "source": [
    "Data_to_add.head(2)"
   ]
  },
  {
   "cell_type": "code",
   "execution_count": 272,
   "metadata": {},
   "outputs": [],
   "source": [
    "Data_complete = pd.concat([Data,Data_to_add], ignore_index=True)"
   ]
  },
  {
   "cell_type": "code",
   "execution_count": 273,
   "metadata": {},
   "outputs": [],
   "source": [
    "columns = ['state_code', 'line','postal_code', 'state','name']\n",
    "Data_complete.drop(columns = columns, inplace=True)"
   ]
  },
  {
   "cell_type": "code",
   "execution_count": 274,
   "metadata": {},
   "outputs": [],
   "source": [
    "columns = ['street_view_url', 'primary_photo','photos', 'listing_id']\n",
    "Data_complete.drop(columns = columns, inplace=True)"
   ]
  },
  {
   "cell_type": "code",
   "execution_count": 275,
   "metadata": {},
   "outputs": [],
   "source": [
    "def year():#return current year\n",
    "    \n",
    "    current_time = time.time()\n",
    "\n",
    "    time_structure = time.localtime(current_time)\n",
    "\n",
    "    \n",
    "    current_year = time_structure.tm_year\n",
    "\n",
    "    return current_year"
   ]
  },
  {
   "cell_type": "code",
   "execution_count": 276,
   "metadata": {},
   "outputs": [],
   "source": [
    "def get_age(year_text):\n",
    "\n",
    "    current_year = year()\n",
    "\n",
    "    return current_year - year_text "
   ]
  },
  {
   "cell_type": "code",
   "execution_count": 277,
   "metadata": {},
   "outputs": [],
   "source": [
    "Data_complete['year_built'] = Data_complete['year_built'].apply(get_age)"
   ]
  },
  {
   "cell_type": "code",
   "execution_count": 278,
   "metadata": {},
   "outputs": [],
   "source": [
    "Data_complete.drop(columns='status',inplace = True)"
   ]
  },
  {
   "cell_type": "code",
   "execution_count": 279,
   "metadata": {},
   "outputs": [],
   "source": [
    "Data_complete.drop('primary', axis=1,inplace = True)"
   ]
  },
  {
   "cell_type": "code",
   "execution_count": 280,
   "metadata": {},
   "outputs": [],
   "source": [
    "label_encoder = LabelEncoder()\n"
   ]
  },
  {
   "cell_type": "code",
   "execution_count": 281,
   "metadata": {},
   "outputs": [],
   "source": [
    "Data_complete['encoded_city'] = label_encoder.fit_transform(Data_complete['city'])\n",
    "Data_complete.drop(columns='city', inplace = True)"
   ]
  },
  {
   "cell_type": "code",
   "execution_count": 282,
   "metadata": {},
   "outputs": [],
   "source": [
    "Data_complete['encoded_type'] = label_encoder.fit_transform(Data_complete['type'])\n",
    "Data_complete.drop(columns='type', inplace = True)"
   ]
  },
  {
   "cell_type": "code",
   "execution_count": 283,
   "metadata": {},
   "outputs": [],
   "source": [
    "top_50_tags = pd.read_csv('most_commun_tags.csv')"
   ]
  },
  {
   "cell_type": "code",
   "execution_count": 284,
   "metadata": {},
   "outputs": [],
   "source": [
    "my_ref_list = top_50_tags['tag'].to_list()\n",
    "\n",
    "    # Iterate through each column\n",
    "for column in Data_complete[['tags']]:\n",
    "    # Initialize a dictionary to store One-Hot Encoding results\n",
    "    encoding_dict = {}\n",
    "    \n",
    "    # Iterate through each value in the column's list\n",
    "    for value in my_ref_list:\n",
    "        # Check if the value is in the list\n",
    "        encoding_dict[f'{value}'] = [int(isinstance(lst, list) and value in lst) for lst in Data_complete[column]]\n",
    "    \n",
    "    # Create a new DataFrame from the encoding_dict\n",
    "    encoding_df = pd.DataFrame(encoding_dict)\n",
    "\n",
    "\n",
    "Data_complete = Data_complete.reset_index().drop(columns='index')\n",
    "# Concatenate the dataframes side by side\n",
    "result = pd.concat([Data_complete, encoding_df], axis=1)"
   ]
  },
  {
   "cell_type": "code",
   "execution_count": 285,
   "metadata": {},
   "outputs": [],
   "source": [
    "result.drop(columns='tags', inplace=True)"
   ]
  },
  {
   "cell_type": "code",
   "execution_count": 286,
   "metadata": {},
   "outputs": [],
   "source": [
    "result.set_index('property_id',inplace=True)"
   ]
  },
  {
   "cell_type": "code",
   "execution_count": 287,
   "metadata": {},
   "outputs": [],
   "source": [
    "def convert_bools(value):\n",
    "    try:\n",
    "        value = int(value)\n",
    "    except:\n",
    "        value=value\n",
    "    return value"
   ]
  },
  {
   "cell_type": "code",
   "execution_count": 288,
   "metadata": {},
   "outputs": [],
   "source": [
    "result['is_new_construction'] = result['is_new_construction'].apply(convert_bools)"
   ]
  },
  {
   "cell_type": "code",
   "execution_count": 289,
   "metadata": {},
   "outputs": [],
   "source": [
    "for column in result.columns:\n",
    "    if 'is_' in column:\n",
    "        result[column] = result[column].apply(convert_bools)"
   ]
  },
  {
   "cell_type": "code",
   "execution_count": 290,
   "metadata": {},
   "outputs": [
    {
     "name": "stdout",
     "output_type": "stream",
     "text": [
      "<class 'pandas.core.frame.DataFrame'>\n",
      "Index: 17746 entries, 1000385902 to 9993679106\n",
      "Data columns (total 71 columns):\n",
      " #   Column                       Non-Null Count  Dtype  \n",
      "---  ------                       --------------  -----  \n",
      " 0   lon                          17590 non-null  float64\n",
      " 1   lat                          17590 non-null  float64\n",
      " 2   fips_code                    16994 non-null  float64\n",
      " 3   is_new_construction          118 non-null    float64\n",
      " 4   is_for_rent                  0 non-null      float64\n",
      " 5   is_contingent                215 non-null    float64\n",
      " 6   is_price_reduced             2240 non-null   float64\n",
      " 7   is_foreclosure               49 non-null     float64\n",
      " 8   is_plan                      0 non-null      float64\n",
      " 9   is_coming_soon               206 non-null    float64\n",
      " 10  year_built                   16856 non-null  float64\n",
      " 11  lot_sqft                     15550 non-null  float64\n",
      " 12  sqft                         16470 non-null  float64\n",
      " 13  baths                        17430 non-null  float64\n",
      " 14  garage                       11110 non-null  float64\n",
      " 15  stories                      14616 non-null  float64\n",
      " 16  beds                         16568 non-null  float64\n",
      " 17  list_date                    15911 non-null  object \n",
      " 18  list_price                   15906 non-null  float64\n",
      " 19  encoded_city                 17746 non-null  int32  \n",
      " 20  encoded_type                 17746 non-null  int32  \n",
      " 21  central_air                  17746 non-null  int64  \n",
      " 22  laundry_room                 17746 non-null  int64  \n",
      " 23  community_outdoor_space      17746 non-null  int64  \n",
      " 24  fireplace                    17746 non-null  int64  \n",
      " 25  dishwasher                   17746 non-null  int64  \n",
      " 26  recreation_facilities        17746 non-null  int64  \n",
      " 27  central_heat                 17746 non-null  int64  \n",
      " 28  forced_air                   17746 non-null  int64  \n",
      " 29  shopping                     17746 non-null  int64  \n",
      " 30  hardwood_floors              17746 non-null  int64  \n",
      " 31  basement                     17746 non-null  int64  \n",
      " 32  family_room                  17746 non-null  int64  \n",
      " 33  view                         17746 non-null  int64  \n",
      " 34  dining_room                  17746 non-null  int64  \n",
      " 35  washer_dryer                 17746 non-null  int64  \n",
      " 36  community_security_features  17746 non-null  int64  \n",
      " 37  community_swimming_pool      17746 non-null  int64  \n",
      " 38  floor_plan                   17746 non-null  int64  \n",
      " 39  updated_kitchen              17746 non-null  int64  \n",
      " 40  city_view                    17746 non-null  int64  \n",
      " 41  swimming_pool                17746 non-null  int64  \n",
      " 42  pets_allowed                 17746 non-null  int64  \n",
      " 43  park                         17746 non-null  int64  \n",
      " 44  modern_kitchen               17746 non-null  int64  \n",
      " 45  ensuite                      17746 non-null  int64  \n",
      " 46  fenced_yard                  17746 non-null  int64  \n",
      " 47  open_floor_plan              17746 non-null  int64  \n",
      " 48  rental_property              17746 non-null  int64  \n",
      " 49  corner_lot                   17746 non-null  int64  \n",
      " 50  community_clubhouse          17746 non-null  int64  \n",
      " 51  big_lot                      17746 non-null  int64  \n",
      " 52  den_or_office                17746 non-null  int64  \n",
      " 53  carport                      17746 non-null  int64  \n",
      " 54  groundscare                  17746 non-null  int64  \n",
      " 55  hill_or_mountain_view        17746 non-null  int64  \n",
      " 56  spa_or_hot_tub               17746 non-null  int64  \n",
      " 57  big_yard                     17746 non-null  int64  \n",
      " 58  farm                         17746 non-null  int64  \n",
      " 59  high_ceiling                 17746 non-null  int64  \n",
      " 60  new_roof                     17746 non-null  int64  \n",
      " 61  views                        17746 non-null  int64  \n",
      " 62  master_bedroom               17746 non-null  int64  \n",
      " 63  water_view                   17746 non-null  int64  \n",
      " 64  vaulted_ceiling              17746 non-null  int64  \n",
      " 65  ranch                        17746 non-null  int64  \n",
      " 66  trails                       17746 non-null  int64  \n",
      " 67  cul_de_sac                   17746 non-null  int64  \n",
      " 68  clubhouse                    17746 non-null  int64  \n",
      " 69  tennis_court                 17746 non-null  int64  \n",
      " 70  master_suite                 17746 non-null  int64  \n",
      "dtypes: float64(18), int32(2), int64(50), object(1)\n",
      "memory usage: 9.6+ MB\n"
     ]
    }
   ],
   "source": [
    "result.info()"
   ]
  },
  {
   "cell_type": "code",
   "execution_count": 291,
   "metadata": {},
   "outputs": [],
   "source": [
    "result.drop(columns='list_date', inplace=True)"
   ]
  },
  {
   "cell_type": "code",
   "execution_count": 292,
   "metadata": {},
   "outputs": [],
   "source": [
    "result.dropna(subset='list_price', inplace=True)"
   ]
  },
  {
   "cell_type": "code",
   "execution_count": 293,
   "metadata": {},
   "outputs": [],
   "source": [
    "price = result[['list_price']].reset_index().sort_values(by='property_id').reset_index().drop(columns='index').set_index('property_id')"
   ]
  },
  {
   "cell_type": "code",
   "execution_count": 294,
   "metadata": {},
   "outputs": [],
   "source": [
    "# Define a window size\n",
    "window_size = 100\n",
    "\n",
    "# Set the sigma value, which is 3, although a slightly larger value could be chosen due to data dispersion\n",
    "sigma = 8\n",
    "\n",
    "# Define the  ceiling of the graph\n",
    "price['ceiling'] = price['list_price'].rolling(window=window_size).mean() + (sigma * price['list_price'].rolling(window=window_size).std())"
   ]
  },
  {
   "cell_type": "code",
   "execution_count": 295,
   "metadata": {},
   "outputs": [
    {
     "data": {
      "text/plain": [
       "<Axes: xlabel='property_id'>"
      ]
     },
     "execution_count": 295,
     "metadata": {},
     "output_type": "execute_result"
    },
    {
     "data": {
      "image/png": "[encoded data removed]",
      "text/plain": [
       "<Figure size 640x480 with 1 Axes>"
      ]
     },
     "metadata": {},
     "output_type": "display_data"
    }
   ],
   "source": [
    "price.plot()"
   ]
  },
  {
   "cell_type": "code",
   "execution_count": 296,
   "metadata": {},
   "outputs": [
    {
     "data": {
      "text/plain": [
       "<Axes: xlabel='property_id'>"
      ]
     },
     "execution_count": 296,
     "metadata": {},
     "output_type": "execute_result"
    },
    {
     "data": {
      "image/png": "[encoded data removed]",
      "text/plain": [
       "<Figure size 640x480 with 1 Axes>"
      ]
     },
     "metadata": {},
     "output_type": "display_data"
    }
   ],
   "source": [
    "price['anomaly']=price.apply(\n",
    "    lambda row: row['list_price'] if (row['list_price']>=row['ceiling']) else 0, axis=1\n",
    ")\n",
    "price['anomaly'].plot()"
   ]
  },
  {
   "cell_type": "code",
   "execution_count": 297,
   "metadata": {},
   "outputs": [
    {
     "data": {
      "text/html": [
       "<div>\n",
       "<style scoped>\n",
       "    .dataframe tbody tr th:only-of-type {\n",
       "        vertical-align: middle;\n",
       "    }\n",
       "\n",
       "    .dataframe tbody tr th {\n",
       "        vertical-align: top;\n",
       "    }\n",
       "\n",
       "    .dataframe thead th {\n",
       "        text-align: right;\n",
       "    }\n",
       "</style>\n",
       "<table border=\"1\" class=\"dataframe\">\n",
       "  <thead>\n",
       "    <tr style=\"text-align: right;\">\n",
       "      <th></th>\n",
       "      <th>list_price</th>\n",
       "      <th>ceiling</th>\n",
       "      <th>anomaly</th>\n",
       "    </tr>\n",
       "    <tr>\n",
       "      <th>property_id</th>\n",
       "      <th></th>\n",
       "      <th></th>\n",
       "      <th></th>\n",
       "    </tr>\n",
       "  </thead>\n",
       "  <tbody>\n",
       "    <tr>\n",
       "      <th>1219585460</th>\n",
       "      <td>33000000.0</td>\n",
       "      <td>2.734582e+07</td>\n",
       "      <td>33000000.0</td>\n",
       "    </tr>\n",
       "    <tr>\n",
       "      <th>1268210483</th>\n",
       "      <td>11250000.0</td>\n",
       "      <td>1.076620e+07</td>\n",
       "      <td>11250000.0</td>\n",
       "    </tr>\n",
       "    <tr>\n",
       "      <th>2207162835</th>\n",
       "      <td>9580000.0</td>\n",
       "      <td>9.091289e+06</td>\n",
       "      <td>9580000.0</td>\n",
       "    </tr>\n",
       "    <tr>\n",
       "      <th>2826711544</th>\n",
       "      <td>11750000.0</td>\n",
       "      <td>1.017990e+07</td>\n",
       "      <td>11750000.0</td>\n",
       "    </tr>\n",
       "    <tr>\n",
       "      <th>5066580275</th>\n",
       "      <td>6495000.0</td>\n",
       "      <td>6.112833e+06</td>\n",
       "      <td>6495000.0</td>\n",
       "    </tr>\n",
       "    <tr>\n",
       "      <th>6378956752</th>\n",
       "      <td>8695000.0</td>\n",
       "      <td>7.565816e+06</td>\n",
       "      <td>8695000.0</td>\n",
       "    </tr>\n",
       "    <tr>\n",
       "      <th>6711130841</th>\n",
       "      <td>29999999.0</td>\n",
       "      <td>2.459210e+07</td>\n",
       "      <td>29999999.0</td>\n",
       "    </tr>\n",
       "    <tr>\n",
       "      <th>7167802095</th>\n",
       "      <td>3995000.0</td>\n",
       "      <td>3.724739e+06</td>\n",
       "      <td>3995000.0</td>\n",
       "    </tr>\n",
       "    <tr>\n",
       "      <th>7660300475</th>\n",
       "      <td>3800000.0</td>\n",
       "      <td>3.726686e+06</td>\n",
       "      <td>3800000.0</td>\n",
       "    </tr>\n",
       "    <tr>\n",
       "      <th>8512356412</th>\n",
       "      <td>4500000.0</td>\n",
       "      <td>3.988140e+06</td>\n",
       "      <td>4500000.0</td>\n",
       "    </tr>\n",
       "    <tr>\n",
       "      <th>8866148694</th>\n",
       "      <td>4950000.0</td>\n",
       "      <td>4.622221e+06</td>\n",
       "      <td>4950000.0</td>\n",
       "    </tr>\n",
       "    <tr>\n",
       "      <th>9064543020</th>\n",
       "      <td>5140000.0</td>\n",
       "      <td>5.136841e+06</td>\n",
       "      <td>5140000.0</td>\n",
       "    </tr>\n",
       "    <tr>\n",
       "      <th>9365857019</th>\n",
       "      <td>6985000.0</td>\n",
       "      <td>6.450315e+06</td>\n",
       "      <td>6985000.0</td>\n",
       "    </tr>\n",
       "  </tbody>\n",
       "</table>\n",
       "</div>"
      ],
      "text/plain": [
       "             list_price       ceiling     anomaly\n",
       "property_id                                      \n",
       "1219585460   33000000.0  2.734582e+07  33000000.0\n",
       "1268210483   11250000.0  1.076620e+07  11250000.0\n",
       "2207162835    9580000.0  9.091289e+06   9580000.0\n",
       "2826711544   11750000.0  1.017990e+07  11750000.0\n",
       "5066580275    6495000.0  6.112833e+06   6495000.0\n",
       "6378956752    8695000.0  7.565816e+06   8695000.0\n",
       "6711130841   29999999.0  2.459210e+07  29999999.0\n",
       "7167802095    3995000.0  3.724739e+06   3995000.0\n",
       "7660300475    3800000.0  3.726686e+06   3800000.0\n",
       "8512356412    4500000.0  3.988140e+06   4500000.0\n",
       "8866148694    4950000.0  4.622221e+06   4950000.0\n",
       "9064543020    5140000.0  5.136841e+06   5140000.0\n",
       "9365857019    6985000.0  6.450315e+06   6985000.0"
      ]
     },
     "execution_count": 297,
     "metadata": {},
     "output_type": "execute_result"
    }
   ],
   "source": [
    "price[price['anomaly']!=0]"
   ]
  },
  {
   "cell_type": "code",
   "execution_count": 298,
   "metadata": {},
   "outputs": [],
   "source": [
    "anomalous_ids = price[price['anomaly']!=0].reset_index()['property_id'].to_list()"
   ]
  },
  {
   "cell_type": "code",
   "execution_count": 299,
   "metadata": {},
   "outputs": [],
   "source": [
    "result.drop(anomalous_ids, inplace=True)"
   ]
  },
  {
   "cell_type": "code",
   "execution_count": 300,
   "metadata": {},
   "outputs": [],
   "source": [
    "result.drop(columns='is_for_rent',inplace=True)"
   ]
  },
  {
   "cell_type": "code",
   "execution_count": 301,
   "metadata": {},
   "outputs": [],
   "source": [
    "result.to_csv('Dataset_modelo_csv.csv')"
   ]
  }
 ],
 "metadata": {
  "kernelspec": {
   "display_name": "Python 3",
   "language": "python",
   "name": "python3"
  },
  "language_info": {
   "codemirror_mode": {
    "name": "ipython",
    "version": 3
   },
   "file_extension": ".py",
   "mimetype": "text/x-python",
   "name": "python",
   "nbconvert_exporter": "python",
   "pygments_lexer": "ipython3",
   "version": "3.11.5"
  }
 },
 "nbformat": 4,
 "nbformat_minor": 2
}
